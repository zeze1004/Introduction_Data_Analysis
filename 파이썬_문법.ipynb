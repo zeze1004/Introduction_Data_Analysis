{
  "nbformat": 4,
  "nbformat_minor": 0,
  "metadata": {
    "colab": {
      "name": "파이썬 문법.ipynb",
      "provenance": [],
      "collapsed_sections": [],
      "authorship_tag": "ABX9TyOY1ad3Lx6iqAGad19dnF9Z",
      "include_colab_link": true
    },
    "kernelspec": {
      "name": "python3",
      "display_name": "Python 3"
    }
  },
  "cells": [
    {
      "cell_type": "markdown",
      "metadata": {
        "id": "view-in-github",
        "colab_type": "text"
      },
      "source": [
        "<a href=\"https://colab.research.google.com/github/zeze1004/Introduction_Data_Analysis/blob/main/%ED%8C%8C%EC%9D%B4%EC%8D%AC_%EB%AC%B8%EB%B2%95.ipynb\" target=\"_parent\"><img src=\"https://colab.research.google.com/assets/colab-badge.svg\" alt=\"Open In Colab\"/></a>"
      ]
    },
    {
      "cell_type": "markdown",
      "metadata": {
        "id": "v4eB_ViuSa4q"
      },
      "source": [
        "## 제제의 파이썬 입문기\r\n"
      ]
    },
    {
      "cell_type": "code",
      "metadata": {
        "id": "2CitNl2AR2Su"
      },
      "source": [
        "# a는 int형이고 함수의 리턴은 bool형이다\r\n",
        "def func(a: int) -> bool:\r\n",
        "    return True"
      ],
      "execution_count": null,
      "outputs": []
    },
    {
      "cell_type": "code",
      "metadata": {
        "colab": {
          "base_uri": "https://localhost:8080/"
        },
        "id": "a9jDpnpNSlBO",
        "outputId": "392fc294-2413-4cd0-ad52-77760fcd4d02"
      },
      "source": [
        "# 리스트 컴프리헨션\r\n",
        "# 람다 표현식..?\r\n",
        "# 홀수인 경우 2를 곱해 출력하라는 리스트 컴프리헨션\r\n",
        "[n*2 for n in range(1, 10+1) if n % 2 == 1] # ??? 얼탱없네"
      ],
      "execution_count": 2,
      "outputs": [
        {
          "output_type": "execute_result",
          "data": {
            "text/plain": [
              "[2, 6, 10, 14, 18]"
            ]
          },
          "metadata": {
            "tags": []
          },
          "execution_count": 2
        }
      ]
    },
    {
      "cell_type": "markdown",
      "metadata": {
        "id": "wKMA5NsTUi5w"
      },
      "source": [
        "```python\r\n",
        "a = [1, 2, 3, 45, 2, 0]\r\n",
        "print(list(enumerate(a)))\r\n",
        "```\r\n",
        "# [(0, 1), (1, 2), (2, 3), (3, 45), (4, 2), (5, 0)]\r\n",
        "# 리스트의 원소 인덱싱"
      ]
    },
    {
      "cell_type": "code",
      "metadata": {
        "colab": {
          "base_uri": "https://localhost:8080/"
        },
        "id": "W4MeWEd5T15U",
        "outputId": "f4c1afc8-1e65-4ce5-fdcb-96ec8c5030d7"
      },
      "source": [
        "# 몫과 나머지 동시에 구하기\r\n",
        "divmod(5,3)"
      ],
      "execution_count": 7,
      "outputs": [
        {
          "output_type": "execute_result",
          "data": {
            "text/plain": [
              "(1, 2)"
            ]
          },
          "metadata": {
            "tags": []
          },
          "execution_count": 7
        }
      ]
    },
    {
      "cell_type": "code",
      "metadata": {
        "colab": {
          "base_uri": "https://localhost:8080/"
        },
        "id": "7romJMRCU1yp",
        "outputId": "5edf73d9-9887-43c9-8154-dbdb9e8f949e"
      },
      "source": [
        "def func(a: int) -> bool:\r\n",
        "  pass\r\n",
        "print('a')"
      ],
      "execution_count": 8,
      "outputs": [
        {
          "output_type": "stream",
          "text": [
            "a\n"
          ],
          "name": "stdout"
        }
      ]
    },
    {
      "cell_type": "code",
      "metadata": {
        "colab": {
          "base_uri": "https://localhost:8080/"
        },
        "id": "v-hDwWaYVO3R",
        "outputId": "48dc83e2-c7e9-4392-d9a7-f687996f6446"
      },
      "source": [
        "a = {'a', 'b', 'c' , 'c'}\r\n",
        "type(a)"
      ],
      "execution_count": 13,
      "outputs": [
        {
          "output_type": "execute_result",
          "data": {
            "text/plain": [
              "set"
            ]
          },
          "metadata": {
            "tags": []
          },
          "execution_count": 13
        }
      ]
    },
    {
      "cell_type": "code",
      "metadata": {
        "colab": {
          "base_uri": "https://localhost:8080/"
        },
        "id": "QkJ6RGqsWn8U",
        "outputId": "78fca064-3119-4d02-cf45-398305fd48ee"
      },
      "source": [
        "# set은 입력 순서 유지되지 않으며 중복된 값이 있을 경우 하나만 유지\r\n",
        "print(a)"
      ],
      "execution_count": 14,
      "outputs": [
        {
          "output_type": "stream",
          "text": [
            "{'b', 'a', 'c'}\n"
          ],
          "name": "stdout"
        }
      ]
    },
    {
      "cell_type": "code",
      "metadata": {
        "colab": {
          "base_uri": "https://localhost:8080/"
        },
        "id": "2Kaa9WiQWZSs",
        "outputId": "3ed9d850-8e2a-4b59-a683-bd741bc54582"
      },
      "source": [
        "a = {'a':1, 'b':2, 'c':3}\r\n",
        "type(a)"
      ],
      "execution_count": 10,
      "outputs": [
        {
          "output_type": "execute_result",
          "data": {
            "text/plain": [
              "dict"
            ]
          },
          "metadata": {
            "tags": []
          },
          "execution_count": 10
        }
      ]
    },
    {
      "cell_type": "markdown",
      "metadata": {
        "id": "9c75wDBNW78w"
      },
      "source": [
        "## 시퀸스(수열)\r\n",
        "\r\n",
        "### 파이썬은 모든 것이 객체다\r\n",
        "\r\n",
        "-  파이썬의 str형은 한 번 선언되면 메모리 정적 할당\r\n",
        "- list는 동적 할당\r\n",
        "-  list, set, dict 외에 모든 자료형은 불변객체"
      ]
    },
    {
      "cell_type": "code",
      "metadata": {
        "colab": {
          "base_uri": "https://localhost:8080/"
        },
        "id": "3y7epsP6WiCP",
        "outputId": "94212b51-20a3-4a4b-9157-f3a115ba669a"
      },
      "source": [
        "# 불변객체\r\n",
        "a = 10\r\n",
        "b = a\r\n",
        "id(10), id(a), id(b)"
      ],
      "execution_count": 15,
      "outputs": [
        {
          "output_type": "execute_result",
          "data": {
            "text/plain": [
              "(10914784, 10914784, 10914784)"
            ]
          },
          "metadata": {
            "tags": []
          },
          "execution_count": 15
        }
      ]
    },
    {
      "cell_type": "markdown",
      "metadata": {
        "id": "u3CP7WpjZ_-6"
      },
      "source": [
        "- 10이란 숫자를 a가 할당\r\n",
        "- b 변수가 a 변수를 할당\r\n"
      ]
    },
    {
      "cell_type": "code",
      "metadata": {
        "id": "e7mShm0PYz9H"
      },
      "source": [
        ""
      ],
      "execution_count": null,
      "outputs": []
    }
  ]
}