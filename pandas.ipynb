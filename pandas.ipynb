{
  "nbformat": 4,
  "nbformat_minor": 0,
  "metadata": {
    "colab": {
      "name": "pandas.ipynb",
      "provenance": [],
      "collapsed_sections": [],
      "authorship_tag": "ABX9TyP0OfS8dFXLI07ePIFHf4QE",
      "include_colab_link": true
    },
    "kernelspec": {
      "name": "python3",
      "display_name": "Python 3"
    }
  },
  "cells": [
    {
      "cell_type": "markdown",
      "metadata": {
        "id": "view-in-github",
        "colab_type": "text"
      },
      "source": [
        "<a href=\"https://colab.research.google.com/github/zeze1004/Introduction_Data_Analysis/blob/main/pandas.ipynb\" target=\"_parent\"><img src=\"https://colab.research.google.com/assets/colab-badge.svg\" alt=\"Open In Colab\"/></a>"
      ]
    },
    {
      "cell_type": "markdown",
      "metadata": {
        "id": "gW6B0axT6vRx"
      },
      "source": [
        "# 1. pandas 시작하기"
      ]
    },
    {
      "cell_type": "code",
      "metadata": {
        "id": "eS5bwsNi6Xjg"
      },
      "source": [
        "# 1. pandas 시작하기\r\n",
        "# 행은 객체, 열은 속성?\r\n",
        "\r\n",
        "import pandas as pd"
      ],
      "execution_count": 2,
      "outputs": []
    },
    {
      "cell_type": "markdown",
      "metadata": {
        "id": "DMwAjMUU7Y4e"
      },
      "source": [
        "# 2. pandas로 1차원 데이터 다루기 - series"
      ]
    },
    {
      "cell_type": "code",
      "metadata": {
        "colab": {
          "base_uri": "https://localhost:8080/"
        },
        "id": "psMMryn37dGx",
        "outputId": "1a049453-3f26-4bc5-b276-7c01ca031687"
      },
      "source": [
        "# 인덱스를 지정해 줄 수 있음\r\n",
        "s = pd.Series([1,2,3,4,5])\r\n",
        "s"
      ],
      "execution_count": 3,
      "outputs": [
        {
          "output_type": "execute_result",
          "data": {
            "text/plain": [
              "0    1\n",
              "1    2\n",
              "2    3\n",
              "3    4\n",
              "4    5\n",
              "dtype: int64"
            ]
          },
          "metadata": {
            "tags": []
          },
          "execution_count": 3
        }
      ]
    },
    {
      "cell_type": "code",
      "metadata": {
        "colab": {
          "base_uri": "https://localhost:8080/"
        },
        "id": "s6MiPcdL7ogb",
        "outputId": "69f15b3d-fd63-477b-890b-63acb472f1a5"
      },
      "source": [
        "s_dictionary = pd.Series({'one':1, 'two':2, 'three':3})\r\n",
        "s_dictionary.one"
      ],
      "execution_count": 25,
      "outputs": [
        {
          "output_type": "execute_result",
          "data": {
            "text/plain": [
              "1"
            ]
          },
          "metadata": {
            "tags": []
          },
          "execution_count": 25
        }
      ]
    },
    {
      "cell_type": "markdown",
      "metadata": {
        "id": "wuxZHNh-8CQq"
      },
      "source": [
        "Series와 Numpy이 유사성"
      ]
    },
    {
      "cell_type": "code",
      "metadata": {
        "colab": {
          "base_uri": "https://localhost:8080/"
        },
        "id": "QxmOlbRJ76zr",
        "outputId": "10cc8961-cdc0-4523-c2d4-347cee7a67c0"
      },
      "source": [
        "s[1]"
      ],
      "execution_count": 6,
      "outputs": [
        {
          "output_type": "execute_result",
          "data": {
            "text/plain": [
              "2"
            ]
          },
          "metadata": {
            "tags": []
          },
          "execution_count": 6
        }
      ]
    },
    {
      "cell_type": "code",
      "metadata": {
        "colab": {
          "base_uri": "https://localhost:8080/"
        },
        "id": "eJ4bFzug8HS3",
        "outputId": "1d12ba1f-e87b-48bd-e6b8-516309710af9"
      },
      "source": [
        "dictionary[1]"
      ],
      "execution_count": 8,
      "outputs": [
        {
          "output_type": "execute_result",
          "data": {
            "text/plain": [
              "2"
            ]
          },
          "metadata": {
            "tags": []
          },
          "execution_count": 8
        }
      ]
    },
    {
      "cell_type": "code",
      "metadata": {
        "colab": {
          "base_uri": "https://localhost:8080/"
        },
        "id": "zFtupaW_8J7_",
        "outputId": "dc9715b6-54dc-4065-d3c1-87efbebd159d"
      },
      "source": [
        "s_dictionary[:2]"
      ],
      "execution_count": 26,
      "outputs": [
        {
          "output_type": "execute_result",
          "data": {
            "text/plain": [
              "one    1\n",
              "two    2\n",
              "dtype: int64"
            ]
          },
          "metadata": {
            "tags": []
          },
          "execution_count": 26
        }
      ]
    },
    {
      "cell_type": "code",
      "metadata": {
        "colab": {
          "base_uri": "https://localhost:8080/"
        },
        "id": "Ae5JWWBw8Ogi",
        "outputId": "269bac1f-b5f8-4a8e-839b-6e19e367d131"
      },
      "source": [
        "# 중간값\r\n",
        "s.median()"
      ],
      "execution_count": 16,
      "outputs": [
        {
          "output_type": "execute_result",
          "data": {
            "text/plain": [
              "3.0"
            ]
          },
          "metadata": {
            "tags": []
          },
          "execution_count": 16
        }
      ]
    },
    {
      "cell_type": "code",
      "metadata": {
        "colab": {
          "base_uri": "https://localhost:8080/"
        },
        "id": "DHn57PhY8hjt",
        "outputId": "43edcaf3-b241-4889-93e2-4fe52000a483"
      },
      "source": [
        "# 자신의 중간값보다 큰 원소만 출력\r\n",
        "medium = s[s>s.median()]\r\n",
        "medium"
      ],
      "execution_count": 20,
      "outputs": [
        {
          "output_type": "execute_result",
          "data": {
            "text/plain": [
              "3    4\n",
              "4    5\n",
              "dtype: int64"
            ]
          },
          "metadata": {
            "tags": []
          },
          "execution_count": 20
        }
      ]
    },
    {
      "cell_type": "code",
      "metadata": {
        "colab": {
          "base_uri": "https://localhost:8080/"
        },
        "id": "IkkTv9JK8-Gt",
        "outputId": "d2d5e091-91a8-47dd-c72a-6f57954fc83b"
      },
      "source": [
        "s[[3,1,4]]  # 인덱스에 따라 순서 바꿔서 출력"
      ],
      "execution_count": 21,
      "outputs": [
        {
          "output_type": "execute_result",
          "data": {
            "text/plain": [
              "3    4\n",
              "1    2\n",
              "4    5\n",
              "dtype: int64"
            ]
          },
          "metadata": {
            "tags": []
          },
          "execution_count": 21
        }
      ]
    },
    {
      "cell_type": "code",
      "metadata": {
        "colab": {
          "base_uri": "https://localhost:8080/"
        },
        "id": "OAnOkAhd9uRj",
        "outputId": "5c08f414-a2e2-41a2-cbb4-1f559c92d788"
      },
      "source": [
        "import numpy as np\r\n",
        "np.exp(s) # e"
      ],
      "execution_count": 22,
      "outputs": [
        {
          "output_type": "execute_result",
          "data": {
            "text/plain": [
              "0      2.718282\n",
              "1      7.389056\n",
              "2     20.085537\n",
              "3     54.598150\n",
              "4    148.413159\n",
              "dtype: float64"
            ]
          },
          "metadata": {
            "tags": []
          },
          "execution_count": 22
        }
      ]
    },
    {
      "cell_type": "code",
      "metadata": {
        "colab": {
          "base_uri": "https://localhost:8080/"
        },
        "id": "ZhXrmPSD97Dj",
        "outputId": "3c1646ee-2e76-487f-9827-f7ff495e5371"
      },
      "source": [
        "s.dtype"
      ],
      "execution_count": 23,
      "outputs": [
        {
          "output_type": "execute_result",
          "data": {
            "text/plain": [
              "dtype('int64')"
            ]
          },
          "metadata": {
            "tags": []
          },
          "execution_count": 23
        }
      ]
    },
    {
      "cell_type": "markdown",
      "metadata": {
        "id": "LADgkD87-Fzq"
      },
      "source": [
        "# Series와 dictionary의 유사성"
      ]
    },
    {
      "cell_type": "code",
      "metadata": {
        "colab": {
          "base_uri": "https://localhost:8080/"
        },
        "id": "agZN6yj6-A6s",
        "outputId": "e78075f5-a3c1-43b1-ef88-0bf8e61c4fad"
      },
      "source": [
        "s_dictionary  # dictionary의 key : value와 유사"
      ],
      "execution_count": 28,
      "outputs": [
        {
          "output_type": "execute_result",
          "data": {
            "text/plain": [
              "one      1\n",
              "two      2\n",
              "three    3\n",
              "dtype: int64"
            ]
          },
          "metadata": {
            "tags": []
          },
          "execution_count": 28
        }
      ]
    },
    {
      "cell_type": "code",
      "metadata": {
        "colab": {
          "base_uri": "https://localhost:8080/"
        },
        "id": "BCSOz_xP-OWS",
        "outputId": "759937a1-8d0f-4cdd-b152-dbc54f90ca7e"
      },
      "source": [
        "s_dictionary['two']"
      ],
      "execution_count": 29,
      "outputs": [
        {
          "output_type": "execute_result",
          "data": {
            "text/plain": [
              "2"
            ]
          },
          "metadata": {
            "tags": []
          },
          "execution_count": 29
        }
      ]
    },
    {
      "cell_type": "code",
      "metadata": {
        "colab": {
          "base_uri": "https://localhost:8080/"
        },
        "id": "WGjs_ntk-fKK",
        "outputId": "de2a7f5e-6444-4850-d14e-f60d3a98b70e"
      },
      "source": [
        "# Series에 값 추가\r\n",
        "s_dictionary['six'] = 6\r\n",
        "s_dictionary"
      ],
      "execution_count": 30,
      "outputs": [
        {
          "output_type": "execute_result",
          "data": {
            "text/plain": [
              "one      1\n",
              "two      2\n",
              "three    3\n",
              "six      6\n",
              "dtype: int64"
            ]
          },
          "metadata": {
            "tags": []
          },
          "execution_count": 30
        }
      ]
    },
    {
      "cell_type": "code",
      "metadata": {
        "colab": {
          "base_uri": "https://localhost:8080/"
        },
        "id": "QxdjiT7B-osN",
        "outputId": "7c72783d-a880-4144-a5c7-4547ed6b6547"
      },
      "source": [
        "'six' in s_dictionary"
      ],
      "execution_count": 31,
      "outputs": [
        {
          "output_type": "execute_result",
          "data": {
            "text/plain": [
              "True"
            ]
          },
          "metadata": {
            "tags": []
          },
          "execution_count": 31
        }
      ]
    },
    {
      "cell_type": "code",
      "metadata": {
        "colab": {
          "base_uri": "https://localhost:8080/"
        },
        "id": "7kLMmnDJ-r6c",
        "outputId": "72466bf6-e385-456d-b7cf-f6dd4303dc5c"
      },
      "source": [
        "1 in s_dictionary # Key만 찾을 수 있음"
      ],
      "execution_count": 33,
      "outputs": [
        {
          "output_type": "execute_result",
          "data": {
            "text/plain": [
              "False"
            ]
          },
          "metadata": {
            "tags": []
          },
          "execution_count": 33
        }
      ]
    },
    {
      "cell_type": "code",
      "metadata": {
        "id": "B3wCDeMG-umV"
      },
      "source": [
        "# get(): 어떤 키를 가져왔을 때 없으면 예외처리 해줌\r\n",
        "s_dictionary.get('seven')  # 키 값 없으면 아무것도 반환하지 않음"
      ],
      "execution_count": 34,
      "outputs": []
    },
    {
      "cell_type": "code",
      "metadata": {
        "colab": {
          "base_uri": "https://localhost:8080/"
        },
        "id": "nbTppmd8-_ph",
        "outputId": "d516d0e8-5cd7-4678-bfb7-8052ec6d192e"
      },
      "source": [
        "s_dictionary.get('seven',0) # 없으면 추가 파라미터(0) 반환"
      ],
      "execution_count": 35,
      "outputs": [
        {
          "output_type": "execute_result",
          "data": {
            "text/plain": [
              "0"
            ]
          },
          "metadata": {
            "tags": []
          },
          "execution_count": 35
        }
      ]
    },
    {
      "cell_type": "markdown",
      "metadata": {
        "id": "7lMDA8tS_Wp1"
      },
      "source": [
        "# Series에 이름 붙이기"
      ]
    },
    {
      "cell_type": "code",
      "metadata": {
        "colab": {
          "base_uri": "https://localhost:8080/"
        },
        "id": "jKi5h9t-_Ppm",
        "outputId": "636a1a47-c083-40b7-b36d-3e6ca5687daf"
      },
      "source": [
        "# 각 Series는 name 속성을 가지고 있어 처음 Series를 만들 때 이름을 붙일 수 있다\r\n",
        "\r\n",
        "name_Series = pd.Series(np.random.randn(5), name = \"random_nums\")\r\n",
        "name_Series"
      ],
      "execution_count": 36,
      "outputs": [
        {
          "output_type": "execute_result",
          "data": {
            "text/plain": [
              "0   -0.603974\n",
              "1    1.487795\n",
              "2    0.265259\n",
              "3   -0.939498\n",
              "4   -0.421938\n",
              "Name: random_nums, dtype: float64"
            ]
          },
          "metadata": {
            "tags": []
          },
          "execution_count": 36
        }
      ]
    },
    {
      "cell_type": "code",
      "metadata": {
        "colab": {
          "base_uri": "https://localhost:8080/",
          "height": 35
        },
        "id": "bFkbmOME_0U2",
        "outputId": "497990ad-5f28-4b8a-bf21-9af57a6f50a4"
      },
      "source": [
        "name_Series.name"
      ],
      "execution_count": 37,
      "outputs": [
        {
          "output_type": "execute_result",
          "data": {
            "application/vnd.google.colaboratory.intrinsic+json": {
              "type": "string"
            },
            "text/plain": [
              "'random_nums'"
            ]
          },
          "metadata": {
            "tags": []
          },
          "execution_count": 37
        }
      ]
    },
    {
      "cell_type": "code",
      "metadata": {
        "colab": {
          "base_uri": "https://localhost:8080/",
          "height": 35
        },
        "id": "aKpiVT3n_29d",
        "outputId": "805cc98b-0bc4-45ef-ef24-18bf09285425"
      },
      "source": [
        "name_Series.name = \"임의의 난수\"\r\n",
        "name_Series.name"
      ],
      "execution_count": 38,
      "outputs": [
        {
          "output_type": "execute_result",
          "data": {
            "application/vnd.google.colaboratory.intrinsic+json": {
              "type": "string"
            },
            "text/plain": [
              "'임의의 난수'"
            ]
          },
          "metadata": {
            "tags": []
          },
          "execution_count": 38
        }
      ]
    },
    {
      "cell_type": "code",
      "metadata": {
        "id": "F7UJvsCZ_7os"
      },
      "source": [
        ""
      ],
      "execution_count": null,
      "outputs": []
    }
  ]
}