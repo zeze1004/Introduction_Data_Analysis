{
  "nbformat": 4,
  "nbformat_minor": 0,
  "metadata": {
    "colab": {
      "name": "pandas.ipynb",
      "provenance": [],
      "collapsed_sections": [
        "gW6B0axT6vRx",
        "DMwAjMUU7Y4e",
        "LADgkD87-Fzq",
        "7lMDA8tS_Wp1",
        "dyLPeEdiBi4h",
        "cce4-mDjmyvj",
        "muzSm1jKnqjj",
        "wjL7uII_qJPI",
        "xdxSiXfLwz6B",
        "P1LJ2F5czwf6"
      ],
      "authorship_tag": "ABX9TyOgi7wJ3WTWS4hG+CxzHiZf",
      "include_colab_link": true
    },
    "kernelspec": {
      "name": "python3",
      "display_name": "Python 3"
    }
  },
  "cells": [
    {
      "cell_type": "markdown",
      "metadata": {
        "id": "view-in-github",
        "colab_type": "text"
      },
      "source": [
        "<a href=\"https://colab.research.google.com/github/zeze1004/Introduction_Data_Analysis/blob/main/pandas.ipynb\" target=\"_parent\"><img src=\"https://colab.research.google.com/assets/colab-badge.svg\" alt=\"Open In Colab\"/></a>"
      ]
    },
    {
      "cell_type": "markdown",
      "metadata": {
        "id": "gW6B0axT6vRx"
      },
      "source": [
        "# 1. pandas 시작하기"
      ]
    },
    {
      "cell_type": "code",
      "metadata": {
        "id": "eS5bwsNi6Xjg"
      },
      "source": [
        "# 1. pandas 시작하기\r\n",
        "# 행은 객체, 열은 속성?\r\n",
        "\r\n",
        "import pandas as pd"
      ],
      "execution_count": 4,
      "outputs": []
    },
    {
      "cell_type": "markdown",
      "metadata": {
        "id": "DMwAjMUU7Y4e"
      },
      "source": [
        "# 2. pandas로 1차원 데이터 다루기 - series"
      ]
    },
    {
      "cell_type": "code",
      "metadata": {
        "colab": {
          "base_uri": "https://localhost:8080/"
        },
        "id": "psMMryn37dGx",
        "outputId": "1a049453-3f26-4bc5-b276-7c01ca031687"
      },
      "source": [
        "# 인덱스를 지정해 줄 수 있음\r\n",
        "s = pd.Series([1,2,3,4,5])\r\n",
        "s"
      ],
      "execution_count": null,
      "outputs": [
        {
          "output_type": "execute_result",
          "data": {
            "text/plain": [
              "0    1\n",
              "1    2\n",
              "2    3\n",
              "3    4\n",
              "4    5\n",
              "dtype: int64"
            ]
          },
          "metadata": {
            "tags": []
          },
          "execution_count": 3
        }
      ]
    },
    {
      "cell_type": "code",
      "metadata": {
        "colab": {
          "base_uri": "https://localhost:8080/"
        },
        "id": "s6MiPcdL7ogb",
        "outputId": "69f15b3d-fd63-477b-890b-63acb472f1a5"
      },
      "source": [
        "s_dictionary = pd.Series({'one':1, 'two':2, 'three':3})\r\n",
        "s_dictionary.one"
      ],
      "execution_count": null,
      "outputs": [
        {
          "output_type": "execute_result",
          "data": {
            "text/plain": [
              "1"
            ]
          },
          "metadata": {
            "tags": []
          },
          "execution_count": 25
        }
      ]
    },
    {
      "cell_type": "markdown",
      "metadata": {
        "id": "wuxZHNh-8CQq"
      },
      "source": [
        "Series와 Numpy이 유사성"
      ]
    },
    {
      "cell_type": "code",
      "metadata": {
        "colab": {
          "base_uri": "https://localhost:8080/"
        },
        "id": "QxmOlbRJ76zr",
        "outputId": "10cc8961-cdc0-4523-c2d4-347cee7a67c0"
      },
      "source": [
        "s[1]"
      ],
      "execution_count": null,
      "outputs": [
        {
          "output_type": "execute_result",
          "data": {
            "text/plain": [
              "2"
            ]
          },
          "metadata": {
            "tags": []
          },
          "execution_count": 6
        }
      ]
    },
    {
      "cell_type": "code",
      "metadata": {
        "colab": {
          "base_uri": "https://localhost:8080/"
        },
        "id": "eJ4bFzug8HS3",
        "outputId": "1d12ba1f-e87b-48bd-e6b8-516309710af9"
      },
      "source": [
        "dictionary[1]"
      ],
      "execution_count": null,
      "outputs": [
        {
          "output_type": "execute_result",
          "data": {
            "text/plain": [
              "2"
            ]
          },
          "metadata": {
            "tags": []
          },
          "execution_count": 8
        }
      ]
    },
    {
      "cell_type": "code",
      "metadata": {
        "colab": {
          "base_uri": "https://localhost:8080/"
        },
        "id": "zFtupaW_8J7_",
        "outputId": "dc9715b6-54dc-4065-d3c1-87efbebd159d"
      },
      "source": [
        "s_dictionary[:2]"
      ],
      "execution_count": null,
      "outputs": [
        {
          "output_type": "execute_result",
          "data": {
            "text/plain": [
              "one    1\n",
              "two    2\n",
              "dtype: int64"
            ]
          },
          "metadata": {
            "tags": []
          },
          "execution_count": 26
        }
      ]
    },
    {
      "cell_type": "code",
      "metadata": {
        "colab": {
          "base_uri": "https://localhost:8080/"
        },
        "id": "Ae5JWWBw8Ogi",
        "outputId": "269bac1f-b5f8-4a8e-839b-6e19e367d131"
      },
      "source": [
        "# 중간값\r\n",
        "s.median()"
      ],
      "execution_count": null,
      "outputs": [
        {
          "output_type": "execute_result",
          "data": {
            "text/plain": [
              "3.0"
            ]
          },
          "metadata": {
            "tags": []
          },
          "execution_count": 16
        }
      ]
    },
    {
      "cell_type": "code",
      "metadata": {
        "colab": {
          "base_uri": "https://localhost:8080/"
        },
        "id": "DHn57PhY8hjt",
        "outputId": "43edcaf3-b241-4889-93e2-4fe52000a483"
      },
      "source": [
        "# 자신의 중간값보다 큰 원소만 출력\r\n",
        "medium = s[s>s.median()]\r\n",
        "medium"
      ],
      "execution_count": null,
      "outputs": [
        {
          "output_type": "execute_result",
          "data": {
            "text/plain": [
              "3    4\n",
              "4    5\n",
              "dtype: int64"
            ]
          },
          "metadata": {
            "tags": []
          },
          "execution_count": 20
        }
      ]
    },
    {
      "cell_type": "code",
      "metadata": {
        "colab": {
          "base_uri": "https://localhost:8080/"
        },
        "id": "IkkTv9JK8-Gt",
        "outputId": "d2d5e091-91a8-47dd-c72a-6f57954fc83b"
      },
      "source": [
        "s[[3,1,4]]  # 인덱스에 따라 순서 바꿔서 출력"
      ],
      "execution_count": null,
      "outputs": [
        {
          "output_type": "execute_result",
          "data": {
            "text/plain": [
              "3    4\n",
              "1    2\n",
              "4    5\n",
              "dtype: int64"
            ]
          },
          "metadata": {
            "tags": []
          },
          "execution_count": 21
        }
      ]
    },
    {
      "cell_type": "code",
      "metadata": {
        "colab": {
          "base_uri": "https://localhost:8080/"
        },
        "id": "OAnOkAhd9uRj",
        "outputId": "5c08f414-a2e2-41a2-cbb4-1f559c92d788"
      },
      "source": [
        "import numpy as np\r\n",
        "np.exp(s) # e"
      ],
      "execution_count": null,
      "outputs": [
        {
          "output_type": "execute_result",
          "data": {
            "text/plain": [
              "0      2.718282\n",
              "1      7.389056\n",
              "2     20.085537\n",
              "3     54.598150\n",
              "4    148.413159\n",
              "dtype: float64"
            ]
          },
          "metadata": {
            "tags": []
          },
          "execution_count": 22
        }
      ]
    },
    {
      "cell_type": "code",
      "metadata": {
        "colab": {
          "base_uri": "https://localhost:8080/"
        },
        "id": "ZhXrmPSD97Dj",
        "outputId": "3c1646ee-2e76-487f-9827-f7ff495e5371"
      },
      "source": [
        "s.dtype"
      ],
      "execution_count": null,
      "outputs": [
        {
          "output_type": "execute_result",
          "data": {
            "text/plain": [
              "dtype('int64')"
            ]
          },
          "metadata": {
            "tags": []
          },
          "execution_count": 23
        }
      ]
    },
    {
      "cell_type": "markdown",
      "metadata": {
        "id": "LADgkD87-Fzq"
      },
      "source": [
        "# Series와 dictionary의 유사성"
      ]
    },
    {
      "cell_type": "code",
      "metadata": {
        "colab": {
          "base_uri": "https://localhost:8080/"
        },
        "id": "agZN6yj6-A6s",
        "outputId": "e78075f5-a3c1-43b1-ef88-0bf8e61c4fad"
      },
      "source": [
        "s_dictionary  # dictionary의 key : value와 유사"
      ],
      "execution_count": null,
      "outputs": [
        {
          "output_type": "execute_result",
          "data": {
            "text/plain": [
              "one      1\n",
              "two      2\n",
              "three    3\n",
              "dtype: int64"
            ]
          },
          "metadata": {
            "tags": []
          },
          "execution_count": 28
        }
      ]
    },
    {
      "cell_type": "code",
      "metadata": {
        "colab": {
          "base_uri": "https://localhost:8080/"
        },
        "id": "BCSOz_xP-OWS",
        "outputId": "759937a1-8d0f-4cdd-b152-dbc54f90ca7e"
      },
      "source": [
        "s_dictionary['two']"
      ],
      "execution_count": null,
      "outputs": [
        {
          "output_type": "execute_result",
          "data": {
            "text/plain": [
              "2"
            ]
          },
          "metadata": {
            "tags": []
          },
          "execution_count": 29
        }
      ]
    },
    {
      "cell_type": "code",
      "metadata": {
        "colab": {
          "base_uri": "https://localhost:8080/"
        },
        "id": "WGjs_ntk-fKK",
        "outputId": "de2a7f5e-6444-4850-d14e-f60d3a98b70e"
      },
      "source": [
        "# Series에 값 추가\r\n",
        "s_dictionary['six'] = 6\r\n",
        "s_dictionary"
      ],
      "execution_count": null,
      "outputs": [
        {
          "output_type": "execute_result",
          "data": {
            "text/plain": [
              "one      1\n",
              "two      2\n",
              "three    3\n",
              "six      6\n",
              "dtype: int64"
            ]
          },
          "metadata": {
            "tags": []
          },
          "execution_count": 30
        }
      ]
    },
    {
      "cell_type": "code",
      "metadata": {
        "colab": {
          "base_uri": "https://localhost:8080/"
        },
        "id": "QxdjiT7B-osN",
        "outputId": "7c72783d-a880-4144-a5c7-4547ed6b6547"
      },
      "source": [
        "'six' in s_dictionary"
      ],
      "execution_count": null,
      "outputs": [
        {
          "output_type": "execute_result",
          "data": {
            "text/plain": [
              "True"
            ]
          },
          "metadata": {
            "tags": []
          },
          "execution_count": 31
        }
      ]
    },
    {
      "cell_type": "code",
      "metadata": {
        "colab": {
          "base_uri": "https://localhost:8080/"
        },
        "id": "7kLMmnDJ-r6c",
        "outputId": "72466bf6-e385-456d-b7cf-f6dd4303dc5c"
      },
      "source": [
        "1 in s_dictionary # Key만 찾을 수 있음"
      ],
      "execution_count": null,
      "outputs": [
        {
          "output_type": "execute_result",
          "data": {
            "text/plain": [
              "False"
            ]
          },
          "metadata": {
            "tags": []
          },
          "execution_count": 33
        }
      ]
    },
    {
      "cell_type": "code",
      "metadata": {
        "id": "B3wCDeMG-umV"
      },
      "source": [
        "# get(): 어떤 키를 가져왔을 때 없으면 예외처리 해줌\r\n",
        "s_dictionary.get('seven')  # 키 값 없으면 아무것도 반환하지 않음"
      ],
      "execution_count": null,
      "outputs": []
    },
    {
      "cell_type": "code",
      "metadata": {
        "colab": {
          "base_uri": "https://localhost:8080/"
        },
        "id": "nbTppmd8-_ph",
        "outputId": "d516d0e8-5cd7-4678-bfb7-8052ec6d192e"
      },
      "source": [
        "s_dictionary.get('seven',0) # 없으면 추가 파라미터(0) 반환"
      ],
      "execution_count": null,
      "outputs": [
        {
          "output_type": "execute_result",
          "data": {
            "text/plain": [
              "0"
            ]
          },
          "metadata": {
            "tags": []
          },
          "execution_count": 35
        }
      ]
    },
    {
      "cell_type": "markdown",
      "metadata": {
        "id": "7lMDA8tS_Wp1"
      },
      "source": [
        "# Series에 이름 붙이기"
      ]
    },
    {
      "cell_type": "code",
      "metadata": {
        "colab": {
          "base_uri": "https://localhost:8080/"
        },
        "id": "jKi5h9t-_Ppm",
        "outputId": "636a1a47-c083-40b7-b36d-3e6ca5687daf"
      },
      "source": [
        "# 각 Series는 name 속성을 가지고 있어 처음 Series를 만들 때 이름을 붙일 수 있다\r\n",
        "\r\n",
        "name_Series = pd.Series(np.random.randn(5), name = \"random_nums\")\r\n",
        "name_Series"
      ],
      "execution_count": null,
      "outputs": [
        {
          "output_type": "execute_result",
          "data": {
            "text/plain": [
              "0   -0.603974\n",
              "1    1.487795\n",
              "2    0.265259\n",
              "3   -0.939498\n",
              "4   -0.421938\n",
              "Name: random_nums, dtype: float64"
            ]
          },
          "metadata": {
            "tags": []
          },
          "execution_count": 36
        }
      ]
    },
    {
      "cell_type": "code",
      "metadata": {
        "colab": {
          "base_uri": "https://localhost:8080/",
          "height": 35
        },
        "id": "bFkbmOME_0U2",
        "outputId": "497990ad-5f28-4b8a-bf21-9af57a6f50a4"
      },
      "source": [
        "name_Series.name"
      ],
      "execution_count": null,
      "outputs": [
        {
          "output_type": "execute_result",
          "data": {
            "application/vnd.google.colaboratory.intrinsic+json": {
              "type": "string"
            },
            "text/plain": [
              "'random_nums'"
            ]
          },
          "metadata": {
            "tags": []
          },
          "execution_count": 37
        }
      ]
    },
    {
      "cell_type": "code",
      "metadata": {
        "colab": {
          "base_uri": "https://localhost:8080/",
          "height": 35
        },
        "id": "aKpiVT3n_29d",
        "outputId": "805cc98b-0bc4-45ef-ef24-18bf09285425"
      },
      "source": [
        "name_Series.name = \"임의의 난수\"\r\n",
        "name_Series.name"
      ],
      "execution_count": null,
      "outputs": [
        {
          "output_type": "execute_result",
          "data": {
            "application/vnd.google.colaboratory.intrinsic+json": {
              "type": "string"
            },
            "text/plain": [
              "'임의의 난수'"
            ]
          },
          "metadata": {
            "tags": []
          },
          "execution_count": 38
        }
      ]
    },
    {
      "cell_type": "markdown",
      "metadata": {
        "id": "dyLPeEdiBi4h"
      },
      "source": [
        "# 3. Pandas로 2차원 데이터 다루기 - dataframe\r\n",
        "\r\n",
        "## dataframe\r\n",
        "- 2D 2차원 labeled (key:value)\r\n",
        "\r\n",
        "  엑셀이나 DB 형태\r\n",
        "- 인덱스 지정할 수 있음"
      ]
    },
    {
      "cell_type": "code",
      "metadata": {
        "colab": {
          "base_uri": "https://localhost:8080/"
        },
        "id": "F7UJvsCZ_7os",
        "outputId": "dffd05c1-c050-4d3b-b186-56db98fa9a34"
      },
      "source": [
        "dictionary = {\"height\":[1,2,3,4], \"weight\":[30,40,50,60]}\r\n",
        "dictionary"
      ],
      "execution_count": null,
      "outputs": [
        {
          "output_type": "execute_result",
          "data": {
            "text/plain": [
              "{'height': [1, 2, 3, 4], 'weight': [30, 40, 50, 60]}"
            ]
          },
          "metadata": {
            "tags": []
          },
          "execution_count": 42
        }
      ]
    },
    {
      "cell_type": "code",
      "metadata": {
        "colab": {
          "base_uri": "https://localhost:8080/",
          "height": 166
        },
        "id": "2UHXA_tADY1V",
        "outputId": "1567aac1-0759-4f5b-9fdd-89e730065481"
      },
      "source": [
        "dictionary_dataframe = pd.DataFrame(dictionary)\r\n",
        "dictionary_dataframe"
      ],
      "execution_count": null,
      "outputs": [
        {
          "output_type": "execute_result",
          "data": {
            "text/html": [
              "<div>\n",
              "<style scoped>\n",
              "    .dataframe tbody tr th:only-of-type {\n",
              "        vertical-align: middle;\n",
              "    }\n",
              "\n",
              "    .dataframe tbody tr th {\n",
              "        vertical-align: top;\n",
              "    }\n",
              "\n",
              "    .dataframe thead th {\n",
              "        text-align: right;\n",
              "    }\n",
              "</style>\n",
              "<table border=\"1\" class=\"dataframe\">\n",
              "  <thead>\n",
              "    <tr style=\"text-align: right;\">\n",
              "      <th></th>\n",
              "      <th>height</th>\n",
              "      <th>weight</th>\n",
              "    </tr>\n",
              "  </thead>\n",
              "  <tbody>\n",
              "    <tr>\n",
              "      <th>0</th>\n",
              "      <td>1</td>\n",
              "      <td>30</td>\n",
              "    </tr>\n",
              "    <tr>\n",
              "      <th>1</th>\n",
              "      <td>2</td>\n",
              "      <td>40</td>\n",
              "    </tr>\n",
              "    <tr>\n",
              "      <th>2</th>\n",
              "      <td>3</td>\n",
              "      <td>50</td>\n",
              "    </tr>\n",
              "    <tr>\n",
              "      <th>3</th>\n",
              "      <td>4</td>\n",
              "      <td>60</td>\n",
              "    </tr>\n",
              "  </tbody>\n",
              "</table>\n",
              "</div>"
            ],
            "text/plain": [
              "   height  weight\n",
              "0       1      30\n",
              "1       2      40\n",
              "2       3      50\n",
              "3       4      60"
            ]
          },
          "metadata": {
            "tags": []
          },
          "execution_count": 44
        }
      ]
    },
    {
      "cell_type": "markdown",
      "metadata": {
        "id": "f-h7l3BnD3ZM"
      },
      "source": [
        "0번째 컬럼에는 height: 1, weight: 30을 가짐"
      ]
    },
    {
      "cell_type": "code",
      "metadata": {
        "colab": {
          "base_uri": "https://localhost:8080/"
        },
        "id": "JECvo2rqDg0D",
        "outputId": "d70a8d09-620e-4ace-f6f9-c68807387a9f"
      },
      "source": [
        "# dtype 확인\r\n",
        "dictionary_dataframe.dtypes"
      ],
      "execution_count": null,
      "outputs": [
        {
          "output_type": "execute_result",
          "data": {
            "text/plain": [
              "height    int64\n",
              "weight    int64\n",
              "dtype: object"
            ]
          },
          "metadata": {
            "tags": []
          },
          "execution_count": 45
        }
      ]
    },
    {
      "cell_type": "markdown",
      "metadata": {
        "id": "bkIOxIKOEQ6J"
      },
      "source": [
        "From CSV to dataframe\r\n",
        "\r\n",
        "- ',' 로 구분된 Value를 DataFrame으로 생성할 수 있다\r\n",
        "\r\n",
        "- `read_csv()` 이용"
      ]
    },
    {
      "cell_type": "code",
      "metadata": {
        "id": "S1R3ZNQSELyq",
        "colab": {
          "base_uri": "https://localhost:8080/"
        },
        "outputId": "823e6f00-3d62-4dd3-dfef-849a0cf4e6d8"
      },
      "source": [
        "# 구글 드라이브로 파일 열기\r\n",
        "from google.colab import drive\r\n",
        "drive.mount('/content/drive')"
      ],
      "execution_count": 1,
      "outputs": [
        {
          "output_type": "stream",
          "text": [
            "Mounted at /content/drive\n"
          ],
          "name": "stdout"
        }
      ]
    },
    {
      "cell_type": "code",
      "metadata": {
        "id": "NCNV8VmIQPUy"
      },
      "source": [
        "#불러올 파일의 경로를 filename 변수에 저장\r\n",
        "data = '/content/drive/MyDrive/강의/DSC_intro/country_wise_latest.csv'"
      ],
      "execution_count": 26,
      "outputs": []
    },
    {
      "cell_type": "markdown",
      "metadata": {
        "id": "pSiw3MsSRkK4"
      },
      "source": [
        "`head(n)` : 처음 n개의 데이터 참조\r\n",
        "\r\n",
        "`tail(n)`: 마지막 n개의 데이터 참조"
      ]
    },
    {
      "cell_type": "code",
      "metadata": {
        "colab": {
          "base_uri": "https://localhost:8080/",
          "height": 0
        },
        "id": "-oTRjXKzQ5Ug",
        "outputId": "6b61712a-7b69-49c0-ea55-8dbe2924327f"
      },
      "source": [
        "#pandas read_csv로 불러오기\r\n",
        "data = pd.read_csv(data)\r\n",
        "data.head() "
      ],
      "execution_count": 28,
      "outputs": [
        {
          "output_type": "execute_result",
          "data": {
            "text/html": [
              "<div>\n",
              "<style scoped>\n",
              "    .dataframe tbody tr th:only-of-type {\n",
              "        vertical-align: middle;\n",
              "    }\n",
              "\n",
              "    .dataframe tbody tr th {\n",
              "        vertical-align: top;\n",
              "    }\n",
              "\n",
              "    .dataframe thead th {\n",
              "        text-align: right;\n",
              "    }\n",
              "</style>\n",
              "<table border=\"1\" class=\"dataframe\">\n",
              "  <thead>\n",
              "    <tr style=\"text-align: right;\">\n",
              "      <th></th>\n",
              "      <th>Country/Region</th>\n",
              "      <th>Confirmed</th>\n",
              "      <th>Deaths</th>\n",
              "      <th>Recovered</th>\n",
              "      <th>Active</th>\n",
              "      <th>New cases</th>\n",
              "      <th>New deaths</th>\n",
              "      <th>New recovered</th>\n",
              "      <th>Deaths / 100 Cases</th>\n",
              "      <th>Recovered / 100 Cases</th>\n",
              "      <th>Deaths / 100 Recovered</th>\n",
              "      <th>Confirmed last week</th>\n",
              "      <th>1 week change</th>\n",
              "      <th>1 week % increase</th>\n",
              "      <th>WHO Region</th>\n",
              "    </tr>\n",
              "  </thead>\n",
              "  <tbody>\n",
              "    <tr>\n",
              "      <th>0</th>\n",
              "      <td>Afghanistan</td>\n",
              "      <td>36263</td>\n",
              "      <td>1269</td>\n",
              "      <td>25198</td>\n",
              "      <td>9796</td>\n",
              "      <td>106</td>\n",
              "      <td>10</td>\n",
              "      <td>18</td>\n",
              "      <td>3.50</td>\n",
              "      <td>69.49</td>\n",
              "      <td>5.04</td>\n",
              "      <td>35526</td>\n",
              "      <td>737</td>\n",
              "      <td>2.07</td>\n",
              "      <td>Eastern Mediterranean</td>\n",
              "    </tr>\n",
              "    <tr>\n",
              "      <th>1</th>\n",
              "      <td>Albania</td>\n",
              "      <td>4880</td>\n",
              "      <td>144</td>\n",
              "      <td>2745</td>\n",
              "      <td>1991</td>\n",
              "      <td>117</td>\n",
              "      <td>6</td>\n",
              "      <td>63</td>\n",
              "      <td>2.95</td>\n",
              "      <td>56.25</td>\n",
              "      <td>5.25</td>\n",
              "      <td>4171</td>\n",
              "      <td>709</td>\n",
              "      <td>17.00</td>\n",
              "      <td>Europe</td>\n",
              "    </tr>\n",
              "    <tr>\n",
              "      <th>2</th>\n",
              "      <td>Algeria</td>\n",
              "      <td>27973</td>\n",
              "      <td>1163</td>\n",
              "      <td>18837</td>\n",
              "      <td>7973</td>\n",
              "      <td>616</td>\n",
              "      <td>8</td>\n",
              "      <td>749</td>\n",
              "      <td>4.16</td>\n",
              "      <td>67.34</td>\n",
              "      <td>6.17</td>\n",
              "      <td>23691</td>\n",
              "      <td>4282</td>\n",
              "      <td>18.07</td>\n",
              "      <td>Africa</td>\n",
              "    </tr>\n",
              "    <tr>\n",
              "      <th>3</th>\n",
              "      <td>Andorra</td>\n",
              "      <td>907</td>\n",
              "      <td>52</td>\n",
              "      <td>803</td>\n",
              "      <td>52</td>\n",
              "      <td>10</td>\n",
              "      <td>0</td>\n",
              "      <td>0</td>\n",
              "      <td>5.73</td>\n",
              "      <td>88.53</td>\n",
              "      <td>6.48</td>\n",
              "      <td>884</td>\n",
              "      <td>23</td>\n",
              "      <td>2.60</td>\n",
              "      <td>Europe</td>\n",
              "    </tr>\n",
              "    <tr>\n",
              "      <th>4</th>\n",
              "      <td>Angola</td>\n",
              "      <td>950</td>\n",
              "      <td>41</td>\n",
              "      <td>242</td>\n",
              "      <td>667</td>\n",
              "      <td>18</td>\n",
              "      <td>1</td>\n",
              "      <td>0</td>\n",
              "      <td>4.32</td>\n",
              "      <td>25.47</td>\n",
              "      <td>16.94</td>\n",
              "      <td>749</td>\n",
              "      <td>201</td>\n",
              "      <td>26.84</td>\n",
              "      <td>Africa</td>\n",
              "    </tr>\n",
              "  </tbody>\n",
              "</table>\n",
              "</div>"
            ],
            "text/plain": [
              "  Country/Region  Confirmed  ...  1 week % increase             WHO Region\n",
              "0    Afghanistan      36263  ...               2.07  Eastern Mediterranean\n",
              "1        Albania       4880  ...              17.00                 Europe\n",
              "2        Algeria      27973  ...              18.07                 Africa\n",
              "3        Andorra        907  ...               2.60                 Europe\n",
              "4         Angola        950  ...              26.84                 Africa\n",
              "\n",
              "[5 rows x 15 columns]"
            ]
          },
          "metadata": {
            "tags": []
          },
          "execution_count": 28
        }
      ]
    },
    {
      "cell_type": "code",
      "metadata": {
        "colab": {
          "base_uri": "https://localhost:8080/",
          "height": 0
        },
        "id": "UHs0TT-4RDfA",
        "outputId": "adbe5ff3-04f3-4e1e-ac60-47a2d009cd26"
      },
      "source": [
        "data.tail(5)"
      ],
      "execution_count": 6,
      "outputs": [
        {
          "output_type": "execute_result",
          "data": {
            "text/html": [
              "<div>\n",
              "<style scoped>\n",
              "    .dataframe tbody tr th:only-of-type {\n",
              "        vertical-align: middle;\n",
              "    }\n",
              "\n",
              "    .dataframe tbody tr th {\n",
              "        vertical-align: top;\n",
              "    }\n",
              "\n",
              "    .dataframe thead th {\n",
              "        text-align: right;\n",
              "    }\n",
              "</style>\n",
              "<table border=\"1\" class=\"dataframe\">\n",
              "  <thead>\n",
              "    <tr style=\"text-align: right;\">\n",
              "      <th></th>\n",
              "      <th>Country/Region</th>\n",
              "      <th>Confirmed</th>\n",
              "      <th>Deaths</th>\n",
              "      <th>Recovered</th>\n",
              "      <th>Active</th>\n",
              "      <th>New cases</th>\n",
              "      <th>New deaths</th>\n",
              "      <th>New recovered</th>\n",
              "      <th>Deaths / 100 Cases</th>\n",
              "      <th>Recovered / 100 Cases</th>\n",
              "      <th>Deaths / 100 Recovered</th>\n",
              "      <th>Confirmed last week</th>\n",
              "      <th>1 week change</th>\n",
              "      <th>1 week % increase</th>\n",
              "      <th>WHO Region</th>\n",
              "    </tr>\n",
              "  </thead>\n",
              "  <tbody>\n",
              "    <tr>\n",
              "      <th>182</th>\n",
              "      <td>West Bank and Gaza</td>\n",
              "      <td>10621</td>\n",
              "      <td>78</td>\n",
              "      <td>3752</td>\n",
              "      <td>6791</td>\n",
              "      <td>152</td>\n",
              "      <td>2</td>\n",
              "      <td>0</td>\n",
              "      <td>0.73</td>\n",
              "      <td>35.33</td>\n",
              "      <td>2.08</td>\n",
              "      <td>8916</td>\n",
              "      <td>1705</td>\n",
              "      <td>19.12</td>\n",
              "      <td>Eastern Mediterranean</td>\n",
              "    </tr>\n",
              "    <tr>\n",
              "      <th>183</th>\n",
              "      <td>Western Sahara</td>\n",
              "      <td>10</td>\n",
              "      <td>1</td>\n",
              "      <td>8</td>\n",
              "      <td>1</td>\n",
              "      <td>0</td>\n",
              "      <td>0</td>\n",
              "      <td>0</td>\n",
              "      <td>10.00</td>\n",
              "      <td>80.00</td>\n",
              "      <td>12.50</td>\n",
              "      <td>10</td>\n",
              "      <td>0</td>\n",
              "      <td>0.00</td>\n",
              "      <td>Africa</td>\n",
              "    </tr>\n",
              "    <tr>\n",
              "      <th>184</th>\n",
              "      <td>Yemen</td>\n",
              "      <td>1691</td>\n",
              "      <td>483</td>\n",
              "      <td>833</td>\n",
              "      <td>375</td>\n",
              "      <td>10</td>\n",
              "      <td>4</td>\n",
              "      <td>36</td>\n",
              "      <td>28.56</td>\n",
              "      <td>49.26</td>\n",
              "      <td>57.98</td>\n",
              "      <td>1619</td>\n",
              "      <td>72</td>\n",
              "      <td>4.45</td>\n",
              "      <td>Eastern Mediterranean</td>\n",
              "    </tr>\n",
              "    <tr>\n",
              "      <th>185</th>\n",
              "      <td>Zambia</td>\n",
              "      <td>4552</td>\n",
              "      <td>140</td>\n",
              "      <td>2815</td>\n",
              "      <td>1597</td>\n",
              "      <td>71</td>\n",
              "      <td>1</td>\n",
              "      <td>465</td>\n",
              "      <td>3.08</td>\n",
              "      <td>61.84</td>\n",
              "      <td>4.97</td>\n",
              "      <td>3326</td>\n",
              "      <td>1226</td>\n",
              "      <td>36.86</td>\n",
              "      <td>Africa</td>\n",
              "    </tr>\n",
              "    <tr>\n",
              "      <th>186</th>\n",
              "      <td>Zimbabwe</td>\n",
              "      <td>2704</td>\n",
              "      <td>36</td>\n",
              "      <td>542</td>\n",
              "      <td>2126</td>\n",
              "      <td>192</td>\n",
              "      <td>2</td>\n",
              "      <td>24</td>\n",
              "      <td>1.33</td>\n",
              "      <td>20.04</td>\n",
              "      <td>6.64</td>\n",
              "      <td>1713</td>\n",
              "      <td>991</td>\n",
              "      <td>57.85</td>\n",
              "      <td>Africa</td>\n",
              "    </tr>\n",
              "  </tbody>\n",
              "</table>\n",
              "</div>"
            ],
            "text/plain": [
              "         Country/Region  Confirmed  ...  1 week % increase             WHO Region\n",
              "182  West Bank and Gaza      10621  ...              19.12  Eastern Mediterranean\n",
              "183      Western Sahara         10  ...               0.00                 Africa\n",
              "184               Yemen       1691  ...               4.45  Eastern Mediterranean\n",
              "185              Zambia       4552  ...              36.86                 Africa\n",
              "186            Zimbabwe       2704  ...              57.85                 Africa\n",
              "\n",
              "[5 rows x 15 columns]"
            ]
          },
          "metadata": {
            "tags": []
          },
          "execution_count": 6
        }
      ]
    },
    {
      "cell_type": "markdown",
      "metadata": {
        "id": "cce4-mDjmyvj"
      },
      "source": [
        "# Pandas 활용 2. 데이터 접근하기\r\n",
        "\r\n",
        "ex) 데이터 중 Confirmed(확진자 수)만 접근 할 수 있음\r\n",
        "\r\n",
        "`df[column_name]` or `df.column_name`"
      ]
    },
    {
      "cell_type": "code",
      "metadata": {
        "colab": {
          "base_uri": "https://localhost:8080/"
        },
        "id": "w_vda1-SRzRa",
        "outputId": "a9502578-0d80-4758-da48-e8b25c2617f7"
      },
      "source": [
        "data['Active']"
      ],
      "execution_count": 8,
      "outputs": [
        {
          "output_type": "execute_result",
          "data": {
            "text/plain": [
              "0      9796\n",
              "1      1991\n",
              "2      7973\n",
              "3        52\n",
              "4       667\n",
              "       ... \n",
              "182    6791\n",
              "183       1\n",
              "184     375\n",
              "185    1597\n",
              "186    2126\n",
              "Name: Active, Length: 187, dtype: int64"
            ]
          },
          "metadata": {
            "tags": []
          },
          "execution_count": 8
        }
      ]
    },
    {
      "cell_type": "code",
      "metadata": {
        "colab": {
          "base_uri": "https://localhost:8080/"
        },
        "id": "TmWAY0jZnQl6",
        "outputId": "772a8900-50da-465e-a96b-acef3caca6bc"
      },
      "source": [
        "data.Active"
      ],
      "execution_count": 10,
      "outputs": [
        {
          "output_type": "execute_result",
          "data": {
            "text/plain": [
              "0      9796\n",
              "1      1991\n",
              "2      7973\n",
              "3        52\n",
              "4       667\n",
              "       ... \n",
              "182    6791\n",
              "183       1\n",
              "184     375\n",
              "185    1597\n",
              "186    2126\n",
              "Name: Active, Length: 187, dtype: int64"
            ]
          },
          "metadata": {
            "tags": []
          },
          "execution_count": 10
        }
      ]
    },
    {
      "cell_type": "code",
      "metadata": {
        "colab": {
          "base_uri": "https://localhost:8080/"
        },
        "id": "USjiSd9VnYE1",
        "outputId": "16e02afc-5e68-49c8-f316-a0e77db396f2"
      },
      "source": [
        "# colunm name이 뛰어쓰기 되어 있다면 []안에서 호출해야 함\r\n",
        "data['WHO Region']"
      ],
      "execution_count": 11,
      "outputs": [
        {
          "output_type": "execute_result",
          "data": {
            "text/plain": [
              "0      Eastern Mediterranean\n",
              "1                     Europe\n",
              "2                     Africa\n",
              "3                     Europe\n",
              "4                     Africa\n",
              "               ...          \n",
              "182    Eastern Mediterranean\n",
              "183                   Africa\n",
              "184    Eastern Mediterranean\n",
              "185                   Africa\n",
              "186                   Africa\n",
              "Name: WHO Region, Length: 187, dtype: object"
            ]
          },
          "metadata": {
            "tags": []
          },
          "execution_count": 11
        }
      ]
    },
    {
      "cell_type": "markdown",
      "metadata": {
        "id": "muzSm1jKnqjj"
      },
      "source": [
        "# 꿀팁!\r\n",
        "\r\n",
        "각 컬럼은 Series다\r\n",
        "\r\n",
        "- 인덱싱, 슬라이싱 등 Series의 메소드 사용 가능"
      ]
    },
    {
      "cell_type": "code",
      "metadata": {
        "colab": {
          "base_uri": "https://localhost:8080/"
        },
        "id": "SzLhT0TXngf2",
        "outputId": "884370ed-6920-4941-aeca-95b1ce04a798"
      },
      "source": [
        "type(data['Active'])"
      ],
      "execution_count": 12,
      "outputs": [
        {
          "output_type": "execute_result",
          "data": {
            "text/plain": [
              "pandas.core.series.Series"
            ]
          },
          "metadata": {
            "tags": []
          },
          "execution_count": 12
        }
      ]
    },
    {
      "cell_type": "code",
      "metadata": {
        "colab": {
          "base_uri": "https://localhost:8080/",
          "height": 35
        },
        "id": "ELscbEVIn4Ir",
        "outputId": "d22d867b-0443-49f4-d7df-fbe766a1f437"
      },
      "source": [
        "# Series의 인덱싱\r\n",
        "data['WHO Region'][0]"
      ],
      "execution_count": 14,
      "outputs": [
        {
          "output_type": "execute_result",
          "data": {
            "application/vnd.google.colaboratory.intrinsic+json": {
              "type": "string"
            },
            "text/plain": [
              "'Eastern Mediterranean'"
            ]
          },
          "metadata": {
            "tags": []
          },
          "execution_count": 14
        }
      ]
    },
    {
      "cell_type": "code",
      "metadata": {
        "colab": {
          "base_uri": "https://localhost:8080/"
        },
        "id": "ot_BKQqroKUJ",
        "outputId": "b0107fb1-c775-4f1a-b1f7-3a19e2f78874"
      },
      "source": [
        "# Series의 슬라이싱\r\n",
        "data['WHO Region'][:5]\r\n"
      ],
      "execution_count": 15,
      "outputs": [
        {
          "output_type": "execute_result",
          "data": {
            "text/plain": [
              "0    Eastern Mediterranean\n",
              "1                   Europe\n",
              "2                   Africa\n",
              "3                   Europe\n",
              "4                   Africa\n",
              "Name: WHO Region, dtype: object"
            ]
          },
          "metadata": {
            "tags": []
          },
          "execution_count": 15
        }
      ]
    },
    {
      "cell_type": "markdown",
      "metadata": {
        "id": "wjL7uII_qJPI"
      },
      "source": [
        "# 3. Pandas 활용 3. \"조건\"을 이용해서 데이터 접근하기"
      ]
    },
    {
      "cell_type": "code",
      "metadata": {
        "colab": {
          "base_uri": "https://localhost:8080/"
        },
        "id": "S_y03gNfqF6R",
        "outputId": "2df68365-3bda-4476-c362-edce44915471"
      },
      "source": [
        "# 신규 확진자(컬럼 이름: New cases)가 100명이 넘는 나라를 찾아보자\r\n",
        "\r\n",
        "data['New cases'] > 100 # 이 조건의 결과를"
      ],
      "execution_count": 17,
      "outputs": [
        {
          "output_type": "execute_result",
          "data": {
            "text/plain": [
              "0       True\n",
              "1       True\n",
              "2       True\n",
              "3      False\n",
              "4      False\n",
              "       ...  \n",
              "182     True\n",
              "183    False\n",
              "184    False\n",
              "185    False\n",
              "186     True\n",
              "Name: New cases, Length: 187, dtype: bool"
            ]
          },
          "metadata": {
            "tags": []
          },
          "execution_count": 17
        }
      ]
    },
    {
      "cell_type": "code",
      "metadata": {
        "colab": {
          "base_uri": "https://localhost:8080/",
          "height": 506
        },
        "id": "GbYqM72rq-Hm",
        "outputId": "283c763a-9c41-48d5-bf72-bb438463a80b"
      },
      "source": [
        "data[data['New cases'] > 100] # data[key(위의 조건의 결과)]로 넣어준다"
      ],
      "execution_count": 19,
      "outputs": [
        {
          "output_type": "execute_result",
          "data": {
            "text/html": [
              "<div>\n",
              "<style scoped>\n",
              "    .dataframe tbody tr th:only-of-type {\n",
              "        vertical-align: middle;\n",
              "    }\n",
              "\n",
              "    .dataframe tbody tr th {\n",
              "        vertical-align: top;\n",
              "    }\n",
              "\n",
              "    .dataframe thead th {\n",
              "        text-align: right;\n",
              "    }\n",
              "</style>\n",
              "<table border=\"1\" class=\"dataframe\">\n",
              "  <thead>\n",
              "    <tr style=\"text-align: right;\">\n",
              "      <th></th>\n",
              "      <th>Country/Region</th>\n",
              "      <th>Confirmed</th>\n",
              "      <th>Deaths</th>\n",
              "      <th>Recovered</th>\n",
              "      <th>Active</th>\n",
              "      <th>New cases</th>\n",
              "      <th>New deaths</th>\n",
              "      <th>New recovered</th>\n",
              "      <th>Deaths / 100 Cases</th>\n",
              "      <th>Recovered / 100 Cases</th>\n",
              "      <th>Deaths / 100 Recovered</th>\n",
              "      <th>Confirmed last week</th>\n",
              "      <th>1 week change</th>\n",
              "      <th>1 week % increase</th>\n",
              "      <th>WHO Region</th>\n",
              "    </tr>\n",
              "  </thead>\n",
              "  <tbody>\n",
              "    <tr>\n",
              "      <th>0</th>\n",
              "      <td>Afghanistan</td>\n",
              "      <td>36263</td>\n",
              "      <td>1269</td>\n",
              "      <td>25198</td>\n",
              "      <td>9796</td>\n",
              "      <td>106</td>\n",
              "      <td>10</td>\n",
              "      <td>18</td>\n",
              "      <td>3.50</td>\n",
              "      <td>69.49</td>\n",
              "      <td>5.04</td>\n",
              "      <td>35526</td>\n",
              "      <td>737</td>\n",
              "      <td>2.07</td>\n",
              "      <td>Eastern Mediterranean</td>\n",
              "    </tr>\n",
              "    <tr>\n",
              "      <th>1</th>\n",
              "      <td>Albania</td>\n",
              "      <td>4880</td>\n",
              "      <td>144</td>\n",
              "      <td>2745</td>\n",
              "      <td>1991</td>\n",
              "      <td>117</td>\n",
              "      <td>6</td>\n",
              "      <td>63</td>\n",
              "      <td>2.95</td>\n",
              "      <td>56.25</td>\n",
              "      <td>5.25</td>\n",
              "      <td>4171</td>\n",
              "      <td>709</td>\n",
              "      <td>17.00</td>\n",
              "      <td>Europe</td>\n",
              "    </tr>\n",
              "    <tr>\n",
              "      <th>2</th>\n",
              "      <td>Algeria</td>\n",
              "      <td>27973</td>\n",
              "      <td>1163</td>\n",
              "      <td>18837</td>\n",
              "      <td>7973</td>\n",
              "      <td>616</td>\n",
              "      <td>8</td>\n",
              "      <td>749</td>\n",
              "      <td>4.16</td>\n",
              "      <td>67.34</td>\n",
              "      <td>6.17</td>\n",
              "      <td>23691</td>\n",
              "      <td>4282</td>\n",
              "      <td>18.07</td>\n",
              "      <td>Africa</td>\n",
              "    </tr>\n",
              "    <tr>\n",
              "      <th>6</th>\n",
              "      <td>Argentina</td>\n",
              "      <td>167416</td>\n",
              "      <td>3059</td>\n",
              "      <td>72575</td>\n",
              "      <td>91782</td>\n",
              "      <td>4890</td>\n",
              "      <td>120</td>\n",
              "      <td>2057</td>\n",
              "      <td>1.83</td>\n",
              "      <td>43.35</td>\n",
              "      <td>4.21</td>\n",
              "      <td>130774</td>\n",
              "      <td>36642</td>\n",
              "      <td>28.02</td>\n",
              "      <td>Americas</td>\n",
              "    </tr>\n",
              "    <tr>\n",
              "      <th>8</th>\n",
              "      <td>Australia</td>\n",
              "      <td>15303</td>\n",
              "      <td>167</td>\n",
              "      <td>9311</td>\n",
              "      <td>5825</td>\n",
              "      <td>368</td>\n",
              "      <td>6</td>\n",
              "      <td>137</td>\n",
              "      <td>1.09</td>\n",
              "      <td>60.84</td>\n",
              "      <td>1.79</td>\n",
              "      <td>12428</td>\n",
              "      <td>2875</td>\n",
              "      <td>23.13</td>\n",
              "      <td>Western Pacific</td>\n",
              "    </tr>\n",
              "    <tr>\n",
              "      <th>...</th>\n",
              "      <td>...</td>\n",
              "      <td>...</td>\n",
              "      <td>...</td>\n",
              "      <td>...</td>\n",
              "      <td>...</td>\n",
              "      <td>...</td>\n",
              "      <td>...</td>\n",
              "      <td>...</td>\n",
              "      <td>...</td>\n",
              "      <td>...</td>\n",
              "      <td>...</td>\n",
              "      <td>...</td>\n",
              "      <td>...</td>\n",
              "      <td>...</td>\n",
              "      <td>...</td>\n",
              "    </tr>\n",
              "    <tr>\n",
              "      <th>177</th>\n",
              "      <td>United Kingdom</td>\n",
              "      <td>301708</td>\n",
              "      <td>45844</td>\n",
              "      <td>1437</td>\n",
              "      <td>254427</td>\n",
              "      <td>688</td>\n",
              "      <td>7</td>\n",
              "      <td>3</td>\n",
              "      <td>15.19</td>\n",
              "      <td>0.48</td>\n",
              "      <td>3190.26</td>\n",
              "      <td>296944</td>\n",
              "      <td>4764</td>\n",
              "      <td>1.60</td>\n",
              "      <td>Europe</td>\n",
              "    </tr>\n",
              "    <tr>\n",
              "      <th>179</th>\n",
              "      <td>Uzbekistan</td>\n",
              "      <td>21209</td>\n",
              "      <td>121</td>\n",
              "      <td>11674</td>\n",
              "      <td>9414</td>\n",
              "      <td>678</td>\n",
              "      <td>5</td>\n",
              "      <td>569</td>\n",
              "      <td>0.57</td>\n",
              "      <td>55.04</td>\n",
              "      <td>1.04</td>\n",
              "      <td>17149</td>\n",
              "      <td>4060</td>\n",
              "      <td>23.67</td>\n",
              "      <td>Europe</td>\n",
              "    </tr>\n",
              "    <tr>\n",
              "      <th>180</th>\n",
              "      <td>Venezuela</td>\n",
              "      <td>15988</td>\n",
              "      <td>146</td>\n",
              "      <td>9959</td>\n",
              "      <td>5883</td>\n",
              "      <td>525</td>\n",
              "      <td>4</td>\n",
              "      <td>213</td>\n",
              "      <td>0.91</td>\n",
              "      <td>62.29</td>\n",
              "      <td>1.47</td>\n",
              "      <td>12334</td>\n",
              "      <td>3654</td>\n",
              "      <td>29.63</td>\n",
              "      <td>Americas</td>\n",
              "    </tr>\n",
              "    <tr>\n",
              "      <th>182</th>\n",
              "      <td>West Bank and Gaza</td>\n",
              "      <td>10621</td>\n",
              "      <td>78</td>\n",
              "      <td>3752</td>\n",
              "      <td>6791</td>\n",
              "      <td>152</td>\n",
              "      <td>2</td>\n",
              "      <td>0</td>\n",
              "      <td>0.73</td>\n",
              "      <td>35.33</td>\n",
              "      <td>2.08</td>\n",
              "      <td>8916</td>\n",
              "      <td>1705</td>\n",
              "      <td>19.12</td>\n",
              "      <td>Eastern Mediterranean</td>\n",
              "    </tr>\n",
              "    <tr>\n",
              "      <th>186</th>\n",
              "      <td>Zimbabwe</td>\n",
              "      <td>2704</td>\n",
              "      <td>36</td>\n",
              "      <td>542</td>\n",
              "      <td>2126</td>\n",
              "      <td>192</td>\n",
              "      <td>2</td>\n",
              "      <td>24</td>\n",
              "      <td>1.33</td>\n",
              "      <td>20.04</td>\n",
              "      <td>6.64</td>\n",
              "      <td>1713</td>\n",
              "      <td>991</td>\n",
              "      <td>57.85</td>\n",
              "      <td>Africa</td>\n",
              "    </tr>\n",
              "  </tbody>\n",
              "</table>\n",
              "<p>82 rows × 15 columns</p>\n",
              "</div>"
            ],
            "text/plain": [
              "         Country/Region  Confirmed  ...  1 week % increase             WHO Region\n",
              "0           Afghanistan      36263  ...               2.07  Eastern Mediterranean\n",
              "1               Albania       4880  ...              17.00                 Europe\n",
              "2               Algeria      27973  ...              18.07                 Africa\n",
              "6             Argentina     167416  ...              28.02               Americas\n",
              "8             Australia      15303  ...              23.13        Western Pacific\n",
              "..                  ...        ...  ...                ...                    ...\n",
              "177      United Kingdom     301708  ...               1.60                 Europe\n",
              "179          Uzbekistan      21209  ...              23.67                 Europe\n",
              "180           Venezuela      15988  ...              29.63               Americas\n",
              "182  West Bank and Gaza      10621  ...              19.12  Eastern Mediterranean\n",
              "186            Zimbabwe       2704  ...              57.85                 Africa\n",
              "\n",
              "[82 rows x 15 columns]"
            ]
          },
          "metadata": {
            "tags": []
          },
          "execution_count": 19
        }
      ]
    },
    {
      "cell_type": "code",
      "metadata": {
        "colab": {
          "base_uri": "https://localhost:8080/",
          "height": 282
        },
        "id": "YF-YuaLLsXYO",
        "outputId": "9d01cc0b-def6-4621-ce3e-3910d0f711d4"
      },
      "source": [
        " data[data['New cases'] > 100].head(5)"
      ],
      "execution_count": 20,
      "outputs": [
        {
          "output_type": "execute_result",
          "data": {
            "text/html": [
              "<div>\n",
              "<style scoped>\n",
              "    .dataframe tbody tr th:only-of-type {\n",
              "        vertical-align: middle;\n",
              "    }\n",
              "\n",
              "    .dataframe tbody tr th {\n",
              "        vertical-align: top;\n",
              "    }\n",
              "\n",
              "    .dataframe thead th {\n",
              "        text-align: right;\n",
              "    }\n",
              "</style>\n",
              "<table border=\"1\" class=\"dataframe\">\n",
              "  <thead>\n",
              "    <tr style=\"text-align: right;\">\n",
              "      <th></th>\n",
              "      <th>Country/Region</th>\n",
              "      <th>Confirmed</th>\n",
              "      <th>Deaths</th>\n",
              "      <th>Recovered</th>\n",
              "      <th>Active</th>\n",
              "      <th>New cases</th>\n",
              "      <th>New deaths</th>\n",
              "      <th>New recovered</th>\n",
              "      <th>Deaths / 100 Cases</th>\n",
              "      <th>Recovered / 100 Cases</th>\n",
              "      <th>Deaths / 100 Recovered</th>\n",
              "      <th>Confirmed last week</th>\n",
              "      <th>1 week change</th>\n",
              "      <th>1 week % increase</th>\n",
              "      <th>WHO Region</th>\n",
              "    </tr>\n",
              "  </thead>\n",
              "  <tbody>\n",
              "    <tr>\n",
              "      <th>0</th>\n",
              "      <td>Afghanistan</td>\n",
              "      <td>36263</td>\n",
              "      <td>1269</td>\n",
              "      <td>25198</td>\n",
              "      <td>9796</td>\n",
              "      <td>106</td>\n",
              "      <td>10</td>\n",
              "      <td>18</td>\n",
              "      <td>3.50</td>\n",
              "      <td>69.49</td>\n",
              "      <td>5.04</td>\n",
              "      <td>35526</td>\n",
              "      <td>737</td>\n",
              "      <td>2.07</td>\n",
              "      <td>Eastern Mediterranean</td>\n",
              "    </tr>\n",
              "    <tr>\n",
              "      <th>1</th>\n",
              "      <td>Albania</td>\n",
              "      <td>4880</td>\n",
              "      <td>144</td>\n",
              "      <td>2745</td>\n",
              "      <td>1991</td>\n",
              "      <td>117</td>\n",
              "      <td>6</td>\n",
              "      <td>63</td>\n",
              "      <td>2.95</td>\n",
              "      <td>56.25</td>\n",
              "      <td>5.25</td>\n",
              "      <td>4171</td>\n",
              "      <td>709</td>\n",
              "      <td>17.00</td>\n",
              "      <td>Europe</td>\n",
              "    </tr>\n",
              "    <tr>\n",
              "      <th>2</th>\n",
              "      <td>Algeria</td>\n",
              "      <td>27973</td>\n",
              "      <td>1163</td>\n",
              "      <td>18837</td>\n",
              "      <td>7973</td>\n",
              "      <td>616</td>\n",
              "      <td>8</td>\n",
              "      <td>749</td>\n",
              "      <td>4.16</td>\n",
              "      <td>67.34</td>\n",
              "      <td>6.17</td>\n",
              "      <td>23691</td>\n",
              "      <td>4282</td>\n",
              "      <td>18.07</td>\n",
              "      <td>Africa</td>\n",
              "    </tr>\n",
              "    <tr>\n",
              "      <th>6</th>\n",
              "      <td>Argentina</td>\n",
              "      <td>167416</td>\n",
              "      <td>3059</td>\n",
              "      <td>72575</td>\n",
              "      <td>91782</td>\n",
              "      <td>4890</td>\n",
              "      <td>120</td>\n",
              "      <td>2057</td>\n",
              "      <td>1.83</td>\n",
              "      <td>43.35</td>\n",
              "      <td>4.21</td>\n",
              "      <td>130774</td>\n",
              "      <td>36642</td>\n",
              "      <td>28.02</td>\n",
              "      <td>Americas</td>\n",
              "    </tr>\n",
              "    <tr>\n",
              "      <th>8</th>\n",
              "      <td>Australia</td>\n",
              "      <td>15303</td>\n",
              "      <td>167</td>\n",
              "      <td>9311</td>\n",
              "      <td>5825</td>\n",
              "      <td>368</td>\n",
              "      <td>6</td>\n",
              "      <td>137</td>\n",
              "      <td>1.09</td>\n",
              "      <td>60.84</td>\n",
              "      <td>1.79</td>\n",
              "      <td>12428</td>\n",
              "      <td>2875</td>\n",
              "      <td>23.13</td>\n",
              "      <td>Western Pacific</td>\n",
              "    </tr>\n",
              "  </tbody>\n",
              "</table>\n",
              "</div>"
            ],
            "text/plain": [
              "  Country/Region  Confirmed  ...  1 week % increase             WHO Region\n",
              "0    Afghanistan      36263  ...               2.07  Eastern Mediterranean\n",
              "1        Albania       4880  ...              17.00                 Europe\n",
              "2        Algeria      27973  ...              18.07                 Africa\n",
              "6      Argentina     167416  ...              28.02               Americas\n",
              "8      Australia      15303  ...              23.13        Western Pacific\n",
              "\n",
              "[5 rows x 15 columns]"
            ]
          },
          "metadata": {
            "tags": []
          },
          "execution_count": 20
        }
      ]
    },
    {
      "cell_type": "code",
      "metadata": {
        "colab": {
          "base_uri": "https://localhost:8080/"
        },
        "id": "w_G5IyYetS2n",
        "outputId": "71deae00-18a2-4b7e-9874-3d45af134490"
      },
      "source": [
        "# WHO 지역이 동남아시아인 나라 찾기\r\n",
        "\r\n",
        "# 해당 컬럼의 원소를 중복 없이 보여준다\r\n",
        "data['WHO Region'].unique()"
      ],
      "execution_count": 34,
      "outputs": [
        {
          "output_type": "execute_result",
          "data": {
            "text/plain": [
              "array(['Eastern Mediterranean', 'Europe', 'Africa', 'Americas',\n",
              "       'Western Pacific', 'South-East Asia'], dtype=object)"
            ]
          },
          "metadata": {
            "tags": []
          },
          "execution_count": 34
        }
      ]
    },
    {
      "cell_type": "code",
      "metadata": {
        "colab": {
          "base_uri": "https://localhost:8080/"
        },
        "id": "zJjSobCptvsG",
        "outputId": "f3781907-4462-4e14-b0b7-626feddabe49"
      },
      "source": [
        "data['WHO Region']=='South-East Asia'"
      ],
      "execution_count": 38,
      "outputs": [
        {
          "output_type": "execute_result",
          "data": {
            "text/plain": [
              "0      False\n",
              "1      False\n",
              "2      False\n",
              "3      False\n",
              "4      False\n",
              "       ...  \n",
              "182    False\n",
              "183    False\n",
              "184    False\n",
              "185    False\n",
              "186    False\n",
              "Name: WHO Region, Length: 187, dtype: bool"
            ]
          },
          "metadata": {
            "tags": []
          },
          "execution_count": 38
        }
      ]
    },
    {
      "cell_type": "code",
      "metadata": {
        "colab": {
          "base_uri": "https://localhost:8080/",
          "height": 733
        },
        "id": "snpGKuKXvDeY",
        "outputId": "b3499fab-4a08-4cd6-f685-70f6d392b752"
      },
      "source": [
        "data[data['WHO Region']=='South-East Asia']"
      ],
      "execution_count": 42,
      "outputs": [
        {
          "output_type": "execute_result",
          "data": {
            "text/html": [
              "<div>\n",
              "<style scoped>\n",
              "    .dataframe tbody tr th:only-of-type {\n",
              "        vertical-align: middle;\n",
              "    }\n",
              "\n",
              "    .dataframe tbody tr th {\n",
              "        vertical-align: top;\n",
              "    }\n",
              "\n",
              "    .dataframe thead th {\n",
              "        text-align: right;\n",
              "    }\n",
              "</style>\n",
              "<table border=\"1\" class=\"dataframe\">\n",
              "  <thead>\n",
              "    <tr style=\"text-align: right;\">\n",
              "      <th></th>\n",
              "      <th>Country/Region</th>\n",
              "      <th>Confirmed</th>\n",
              "      <th>Deaths</th>\n",
              "      <th>Recovered</th>\n",
              "      <th>Active</th>\n",
              "      <th>New cases</th>\n",
              "      <th>New deaths</th>\n",
              "      <th>New recovered</th>\n",
              "      <th>Deaths / 100 Cases</th>\n",
              "      <th>Recovered / 100 Cases</th>\n",
              "      <th>Deaths / 100 Recovered</th>\n",
              "      <th>Confirmed last week</th>\n",
              "      <th>1 week change</th>\n",
              "      <th>1 week % increase</th>\n",
              "      <th>WHO Region</th>\n",
              "    </tr>\n",
              "  </thead>\n",
              "  <tbody>\n",
              "    <tr>\n",
              "      <th>13</th>\n",
              "      <td>Bangladesh</td>\n",
              "      <td>226225</td>\n",
              "      <td>2965</td>\n",
              "      <td>125683</td>\n",
              "      <td>97577</td>\n",
              "      <td>2772</td>\n",
              "      <td>37</td>\n",
              "      <td>1801</td>\n",
              "      <td>1.31</td>\n",
              "      <td>55.56</td>\n",
              "      <td>2.36</td>\n",
              "      <td>207453</td>\n",
              "      <td>18772</td>\n",
              "      <td>9.05</td>\n",
              "      <td>South-East Asia</td>\n",
              "    </tr>\n",
              "    <tr>\n",
              "      <th>19</th>\n",
              "      <td>Bhutan</td>\n",
              "      <td>99</td>\n",
              "      <td>0</td>\n",
              "      <td>86</td>\n",
              "      <td>13</td>\n",
              "      <td>4</td>\n",
              "      <td>0</td>\n",
              "      <td>1</td>\n",
              "      <td>0.00</td>\n",
              "      <td>86.87</td>\n",
              "      <td>0.00</td>\n",
              "      <td>90</td>\n",
              "      <td>9</td>\n",
              "      <td>10.00</td>\n",
              "      <td>South-East Asia</td>\n",
              "    </tr>\n",
              "    <tr>\n",
              "      <th>27</th>\n",
              "      <td>Burma</td>\n",
              "      <td>350</td>\n",
              "      <td>6</td>\n",
              "      <td>292</td>\n",
              "      <td>52</td>\n",
              "      <td>0</td>\n",
              "      <td>0</td>\n",
              "      <td>2</td>\n",
              "      <td>1.71</td>\n",
              "      <td>83.43</td>\n",
              "      <td>2.05</td>\n",
              "      <td>341</td>\n",
              "      <td>9</td>\n",
              "      <td>2.64</td>\n",
              "      <td>South-East Asia</td>\n",
              "    </tr>\n",
              "    <tr>\n",
              "      <th>79</th>\n",
              "      <td>India</td>\n",
              "      <td>1480073</td>\n",
              "      <td>33408</td>\n",
              "      <td>951166</td>\n",
              "      <td>495499</td>\n",
              "      <td>44457</td>\n",
              "      <td>637</td>\n",
              "      <td>33598</td>\n",
              "      <td>2.26</td>\n",
              "      <td>64.26</td>\n",
              "      <td>3.51</td>\n",
              "      <td>1155338</td>\n",
              "      <td>324735</td>\n",
              "      <td>28.11</td>\n",
              "      <td>South-East Asia</td>\n",
              "    </tr>\n",
              "    <tr>\n",
              "      <th>80</th>\n",
              "      <td>Indonesia</td>\n",
              "      <td>100303</td>\n",
              "      <td>4838</td>\n",
              "      <td>58173</td>\n",
              "      <td>37292</td>\n",
              "      <td>1525</td>\n",
              "      <td>57</td>\n",
              "      <td>1518</td>\n",
              "      <td>4.82</td>\n",
              "      <td>58.00</td>\n",
              "      <td>8.32</td>\n",
              "      <td>88214</td>\n",
              "      <td>12089</td>\n",
              "      <td>13.70</td>\n",
              "      <td>South-East Asia</td>\n",
              "    </tr>\n",
              "    <tr>\n",
              "      <th>106</th>\n",
              "      <td>Maldives</td>\n",
              "      <td>3369</td>\n",
              "      <td>15</td>\n",
              "      <td>2547</td>\n",
              "      <td>807</td>\n",
              "      <td>67</td>\n",
              "      <td>0</td>\n",
              "      <td>19</td>\n",
              "      <td>0.45</td>\n",
              "      <td>75.60</td>\n",
              "      <td>0.59</td>\n",
              "      <td>2999</td>\n",
              "      <td>370</td>\n",
              "      <td>12.34</td>\n",
              "      <td>South-East Asia</td>\n",
              "    </tr>\n",
              "    <tr>\n",
              "      <th>119</th>\n",
              "      <td>Nepal</td>\n",
              "      <td>18752</td>\n",
              "      <td>48</td>\n",
              "      <td>13754</td>\n",
              "      <td>4950</td>\n",
              "      <td>139</td>\n",
              "      <td>3</td>\n",
              "      <td>626</td>\n",
              "      <td>0.26</td>\n",
              "      <td>73.35</td>\n",
              "      <td>0.35</td>\n",
              "      <td>17844</td>\n",
              "      <td>908</td>\n",
              "      <td>5.09</td>\n",
              "      <td>South-East Asia</td>\n",
              "    </tr>\n",
              "    <tr>\n",
              "      <th>158</th>\n",
              "      <td>Sri Lanka</td>\n",
              "      <td>2805</td>\n",
              "      <td>11</td>\n",
              "      <td>2121</td>\n",
              "      <td>673</td>\n",
              "      <td>23</td>\n",
              "      <td>0</td>\n",
              "      <td>15</td>\n",
              "      <td>0.39</td>\n",
              "      <td>75.61</td>\n",
              "      <td>0.52</td>\n",
              "      <td>2730</td>\n",
              "      <td>75</td>\n",
              "      <td>2.75</td>\n",
              "      <td>South-East Asia</td>\n",
              "    </tr>\n",
              "    <tr>\n",
              "      <th>167</th>\n",
              "      <td>Thailand</td>\n",
              "      <td>3297</td>\n",
              "      <td>58</td>\n",
              "      <td>3111</td>\n",
              "      <td>128</td>\n",
              "      <td>6</td>\n",
              "      <td>0</td>\n",
              "      <td>2</td>\n",
              "      <td>1.76</td>\n",
              "      <td>94.36</td>\n",
              "      <td>1.86</td>\n",
              "      <td>3250</td>\n",
              "      <td>47</td>\n",
              "      <td>1.45</td>\n",
              "      <td>South-East Asia</td>\n",
              "    </tr>\n",
              "    <tr>\n",
              "      <th>168</th>\n",
              "      <td>Timor-Leste</td>\n",
              "      <td>24</td>\n",
              "      <td>0</td>\n",
              "      <td>0</td>\n",
              "      <td>24</td>\n",
              "      <td>0</td>\n",
              "      <td>0</td>\n",
              "      <td>0</td>\n",
              "      <td>0.00</td>\n",
              "      <td>0.00</td>\n",
              "      <td>0.00</td>\n",
              "      <td>24</td>\n",
              "      <td>0</td>\n",
              "      <td>0.00</td>\n",
              "      <td>South-East Asia</td>\n",
              "    </tr>\n",
              "  </tbody>\n",
              "</table>\n",
              "</div>"
            ],
            "text/plain": [
              "    Country/Region  Confirmed  ...  1 week % increase       WHO Region\n",
              "13      Bangladesh     226225  ...               9.05  South-East Asia\n",
              "19          Bhutan         99  ...              10.00  South-East Asia\n",
              "27           Burma        350  ...               2.64  South-East Asia\n",
              "79           India    1480073  ...              28.11  South-East Asia\n",
              "80       Indonesia     100303  ...              13.70  South-East Asia\n",
              "106       Maldives       3369  ...              12.34  South-East Asia\n",
              "119          Nepal      18752  ...               5.09  South-East Asia\n",
              "158      Sri Lanka       2805  ...               2.75  South-East Asia\n",
              "167       Thailand       3297  ...               1.45  South-East Asia\n",
              "168    Timor-Leste         24  ...               0.00  South-East Asia\n",
              "\n",
              "[10 rows x 15 columns]"
            ]
          },
          "metadata": {
            "tags": []
          },
          "execution_count": 42
        }
      ]
    },
    {
      "cell_type": "markdown",
      "metadata": {
        "id": "iX-DmX8sv2Uw"
      },
      "source": [
        "# Pandas 활용 4. 행을 기준으로 데이터 접근하기"
      ]
    },
    {
      "cell_type": "code",
      "metadata": {
        "colab": {
          "base_uri": "https://localhost:8080/",
          "height": 136
        },
        "id": "ot857EYUvkgp",
        "outputId": "4bbafde8-d0c7-437a-9855-5ddd0f4158ec"
      },
      "source": [
        "# 예시 데이터 - 도서관 정보\r\n",
        "\r\n",
        "books_dictionary = {\"Available\":[True,True,False], \"Location\":[102,215,323], \"Genre\":[\"programming\", \"physics\", \"math\"]}\r\n",
        "\r\n",
        "# 인덱스 지정할 수 있음\r\n",
        "books_dataframe = pd.DataFrame(books_dictionary, index =['클린코딩', '대학기초물리학', '대학 미적분'])\r\n",
        "\r\n",
        "books_dataframe "
      ],
      "execution_count": 77,
      "outputs": [
        {
          "output_type": "execute_result",
          "data": {
            "text/html": [
              "<div>\n",
              "<style scoped>\n",
              "    .dataframe tbody tr th:only-of-type {\n",
              "        vertical-align: middle;\n",
              "    }\n",
              "\n",
              "    .dataframe tbody tr th {\n",
              "        vertical-align: top;\n",
              "    }\n",
              "\n",
              "    .dataframe thead th {\n",
              "        text-align: right;\n",
              "    }\n",
              "</style>\n",
              "<table border=\"1\" class=\"dataframe\">\n",
              "  <thead>\n",
              "    <tr style=\"text-align: right;\">\n",
              "      <th></th>\n",
              "      <th>Available</th>\n",
              "      <th>Location</th>\n",
              "      <th>Genre</th>\n",
              "    </tr>\n",
              "  </thead>\n",
              "  <tbody>\n",
              "    <tr>\n",
              "      <th>클린코딩</th>\n",
              "      <td>True</td>\n",
              "      <td>102</td>\n",
              "      <td>programming</td>\n",
              "    </tr>\n",
              "    <tr>\n",
              "      <th>대학기초물리학</th>\n",
              "      <td>True</td>\n",
              "      <td>215</td>\n",
              "      <td>physics</td>\n",
              "    </tr>\n",
              "    <tr>\n",
              "      <th>대학 미적분</th>\n",
              "      <td>False</td>\n",
              "      <td>323</td>\n",
              "      <td>math</td>\n",
              "    </tr>\n",
              "  </tbody>\n",
              "</table>\n",
              "</div>"
            ],
            "text/plain": [
              "         Available  Location        Genre\n",
              "클린코딩          True       102  programming\n",
              "대학기초물리학       True       215      physics\n",
              "대학 미적분       False       323         math"
            ]
          },
          "metadata": {
            "tags": []
          },
          "execution_count": 77
        }
      ]
    },
    {
      "cell_type": "markdown",
      "metadata": {
        "id": "xdxSiXfLwz6B"
      },
      "source": [
        "## 인덱스 이용해서 가져오기\r\n",
        "\r\n",
        "`.loc[row, col]`\r\n",
        "- loc: location"
      ]
    },
    {
      "cell_type": "code",
      "metadata": {
        "colab": {
          "base_uri": "https://localhost:8080/"
        },
        "id": "DL87p4O6wPL7",
        "outputId": "ff2b7706-909b-4151-8cf1-f1d24e37a2ac"
      },
      "source": [
        "books_dataframe.loc[\"클린코딩\"]"
      ],
      "execution_count": 78,
      "outputs": [
        {
          "output_type": "execute_result",
          "data": {
            "text/plain": [
              "Available           True\n",
              "Location             102\n",
              "Genre        programming\n",
              "Name: 클린코딩, dtype: object"
            ]
          },
          "metadata": {
            "tags": []
          },
          "execution_count": 78
        }
      ]
    },
    {
      "cell_type": "code",
      "metadata": {
        "colab": {
          "base_uri": "https://localhost:8080/"
        },
        "id": "EdSZQu9LxAdI",
        "outputId": "4551dc57-aa51-4cc5-f697-85eeac00c92f"
      },
      "source": [
        "type(books_dataframe.loc[\"클린코딩\"])"
      ],
      "execution_count": 79,
      "outputs": [
        {
          "output_type": "execute_result",
          "data": {
            "text/plain": [
              "pandas.core.series.Series"
            ]
          },
          "metadata": {
            "tags": []
          },
          "execution_count": 79
        }
      ]
    },
    {
      "cell_type": "code",
      "metadata": {
        "colab": {
          "base_uri": "https://localhost:8080/"
        },
        "id": "yJwQxOskxHwL",
        "outputId": "6490a564-28ec-48ec-d4e9-e85f85f5e392"
      },
      "source": [
        "# 대학미적분학이 대출가능한지\r\n",
        "books_dataframe['Available'] "
      ],
      "execution_count": 80,
      "outputs": [
        {
          "output_type": "execute_result",
          "data": {
            "text/plain": [
              "클린코딩        True\n",
              "대학기초물리학     True\n",
              "대학 미적분     False\n",
              "Name: Available, dtype: bool"
            ]
          },
          "metadata": {
            "tags": []
          },
          "execution_count": 80
        }
      ]
    },
    {
      "cell_type": "code",
      "metadata": {
        "colab": {
          "base_uri": "https://localhost:8080/",
          "height": 106
        },
        "id": "kzQhi11yxcA1",
        "outputId": "e678d4a5-181e-4a67-8ed4-77ac84f2b1a9"
      },
      "source": [
        "books_dataframe[books_dataframe['Available']] "
      ],
      "execution_count": 81,
      "outputs": [
        {
          "output_type": "execute_result",
          "data": {
            "text/html": [
              "<div>\n",
              "<style scoped>\n",
              "    .dataframe tbody tr th:only-of-type {\n",
              "        vertical-align: middle;\n",
              "    }\n",
              "\n",
              "    .dataframe tbody tr th {\n",
              "        vertical-align: top;\n",
              "    }\n",
              "\n",
              "    .dataframe thead th {\n",
              "        text-align: right;\n",
              "    }\n",
              "</style>\n",
              "<table border=\"1\" class=\"dataframe\">\n",
              "  <thead>\n",
              "    <tr style=\"text-align: right;\">\n",
              "      <th></th>\n",
              "      <th>Available</th>\n",
              "      <th>Location</th>\n",
              "      <th>Genre</th>\n",
              "    </tr>\n",
              "  </thead>\n",
              "  <tbody>\n",
              "    <tr>\n",
              "      <th>클린코딩</th>\n",
              "      <td>True</td>\n",
              "      <td>102</td>\n",
              "      <td>programming</td>\n",
              "    </tr>\n",
              "    <tr>\n",
              "      <th>대학기초물리학</th>\n",
              "      <td>True</td>\n",
              "      <td>215</td>\n",
              "      <td>physics</td>\n",
              "    </tr>\n",
              "  </tbody>\n",
              "</table>\n",
              "</div>"
            ],
            "text/plain": [
              "         Available  Location        Genre\n",
              "클린코딩          True       102  programming\n",
              "대학기초물리학       True       215      physics"
            ]
          },
          "metadata": {
            "tags": []
          },
          "execution_count": 81
        }
      ]
    },
    {
      "cell_type": "code",
      "metadata": {
        "colab": {
          "base_uri": "https://localhost:8080/"
        },
        "id": "Gg6-wralxj_f",
        "outputId": "59dce603-c409-48d5-b21d-8a47a12ad8b0"
      },
      "source": [
        "books_dataframe.loc['대학 미적분', 'Available']"
      ],
      "execution_count": 82,
      "outputs": [
        {
          "output_type": "execute_result",
          "data": {
            "text/plain": [
              "False"
            ]
          },
          "metadata": {
            "tags": []
          },
          "execution_count": 82
        }
      ]
    },
    {
      "cell_type": "markdown",
      "metadata": {
        "id": "P1LJ2F5czwf6"
      },
      "source": [
        "### 숫자 인덱스를 이용해서 가져오기: `.iloc[rowidx, *colidx*`"
      ]
    },
    {
      "cell_type": "code",
      "metadata": {
        "colab": {
          "base_uri": "https://localhost:8080/"
        },
        "id": "64vyl43ty8M7",
        "outputId": "6a2d1399-8915-417b-d6e4-5692a751dd30"
      },
      "source": [
        "# 인덱스 0행의 인덱스 1열 가지고 오기\r\n",
        "books_dataframe.iloc[0,1]"
      ],
      "execution_count": 83,
      "outputs": [
        {
          "output_type": "execute_result",
          "data": {
            "text/plain": [
              "102"
            ]
          },
          "metadata": {
            "tags": []
          },
          "execution_count": 83
        }
      ]
    },
    {
      "cell_type": "code",
      "metadata": {
        "colab": {
          "base_uri": "https://localhost:8080/"
        },
        "id": "i_40rbb15q_7",
        "outputId": "15f71612-ba78-4cdd-c35b-da87bb4cf631"
      },
      "source": [
        "# 인덱스 1행의 인덱스 0-1열 가지고 오기\r\n",
        "books_dataframe.iloc[1, 0:2]"
      ],
      "execution_count": 84,
      "outputs": [
        {
          "output_type": "execute_result",
          "data": {
            "text/plain": [
              "Available    True\n",
              "Location      215\n",
              "Name: 대학기초물리학, dtype: object"
            ]
          },
          "metadata": {
            "tags": []
          },
          "execution_count": 84
        }
      ]
    },
    {
      "cell_type": "markdown",
      "metadata": {
        "id": "4fMbgujh9wuQ"
      },
      "source": [
        "## Pandas 활용 5.groupby\r\n",
        "- sql 문법 groupby와 유사\r\n",
        "\r\n",
        "- 1. Split: 특정한 \"기준\"을 바탕으로 DataFrame을 분할\r\n",
        "\r\n",
        "- 2. Apply: 통계함수 - sum(), mean(), median(), - 을 적용하여 각 데이터 압축\r\n",
        "\r\n",
        "- 3. Combine: Apply된 결과를 바탕으로 새로운 Series를 생성 (group_key: applied_value)\r\n",
        "\r\n",
        "### `.groupby()`"
      ]
    },
    {
      "cell_type": "markdown",
      "metadata": {
        "id": "c9-QKzuUD04R"
      },
      "source": [
        "##### ***WHO Region 별 확진자***"
      ]
    },
    {
      "cell_type": "code",
      "metadata": {
        "colab": {
          "base_uri": "https://localhost:8080/"
        },
        "id": "pHYHLArX9vJ4",
        "outputId": "5df4d0f8-65db-4031-f0d5-72c23959abb2"
      },
      "source": [
        "# 1. data에서 확진자 수 column만 추출한다\r\n",
        "# 2. 이를 covid의 WHO Region을 기준으로 groupby한다\r\n",
        "\r\n",
        "covid_by_region = data['Confirmed'].groupby(by=data[\"WHO Region\"])  # Confirmed: 확진자 수\r\n",
        "covid_by_region # 객체로 출력...? Split 된 상태: 유의미한 데이터가 아니다\r\n",
        "# 객체란 무엇?"
      ],
      "execution_count": 88,
      "outputs": [
        {
          "output_type": "execute_result",
          "data": {
            "text/plain": [
              "<pandas.core.groupby.generic.SeriesGroupBy object at 0x7f090260a198>"
            ]
          },
          "metadata": {
            "tags": []
          },
          "execution_count": 88
        }
      ]
    },
    {
      "cell_type": "code",
      "metadata": {
        "colab": {
          "base_uri": "https://localhost:8080/"
        },
        "id": "iJbmXUwI_JT3",
        "outputId": "66d26dbd-a575-4ca5-c185-197a915e67fa"
      },
      "source": [
        "covid_by_region.sum() # 통계함수를 적용하여 데이터 압축(Combine되어 key:value 생성)"
      ],
      "execution_count": 93,
      "outputs": [
        {
          "output_type": "execute_result",
          "data": {
            "text/plain": [
              "WHO Region\n",
              "Africa                    723207\n",
              "Americas                 8839286\n",
              "Eastern Mediterranean    1490744\n",
              "Europe                   3299523\n",
              "South-East Asia          1835297\n",
              "Western Pacific           292428\n",
              "Name: Confirmed, dtype: int64"
            ]
          },
          "metadata": {
            "tags": []
          },
          "execution_count": 93
        }
      ]
    },
    {
      "cell_type": "code",
      "metadata": {
        "colab": {
          "base_uri": "https://localhost:8080/"
        },
        "id": "G0qh8_z2Cm5S",
        "outputId": "b213cbbf-68cc-4c16-8568-6e468f4ab207"
      },
      "source": [
        "type(covid_by_region)"
      ],
      "execution_count": 107,
      "outputs": [
        {
          "output_type": "execute_result",
          "data": {
            "text/plain": [
              "pandas.core.groupby.generic.SeriesGroupBy"
            ]
          },
          "metadata": {
            "tags": []
          },
          "execution_count": 107
        }
      ]
    },
    {
      "cell_type": "markdown",
      "metadata": {
        "id": "LKscPzpFCqTL"
      },
      "source": [
        "### ✨에러파티✨"
      ]
    },
    {
      "cell_type": "code",
      "metadata": {
        "id": "p8r0MIZmB56j"
      },
      "source": [
        "covid_by_region.iloc(0,1)"
      ],
      "execution_count": null,
      "outputs": []
    },
    {
      "cell_type": "code",
      "metadata": {
        "id": "L73Cv7_jB_bc"
      },
      "source": [
        "covid_by_region['Africa'] # 키 값을 입력했는데 value가 나오지 않음\r\n",
        "                          # 딕셔너리 타입이 아니어서?\r\n",
        "                          # Series도 key:value 형태 가능, SeriesGroupBy 검색"
      ],
      "execution_count": null,
      "outputs": []
    },
    {
      "cell_type": "code",
      "metadata": {
        "id": "ak3FzmQrBYni"
      },
      "source": [
        "data_confirmed_region = pd.DataFrame(covid_by_region, index = ['Region', 'Confirmed_num'])"
      ],
      "execution_count": null,
      "outputs": []
    },
    {
      "cell_type": "code",
      "metadata": {
        "id": "qfWCVSWfB3sT"
      },
      "source": [
        "data_confirmed_region = pd.DataFrame(covid_by_region, index = ['Region', 'Confirmed_num'])"
      ],
      "execution_count": null,
      "outputs": []
    },
    {
      "cell_type": "code",
      "metadata": {
        "id": "XWk-VUoICiAR"
      },
      "source": [
        ""
      ],
      "execution_count": null,
      "outputs": []
    },
    {
      "cell_type": "markdown",
      "metadata": {
        "id": "QxsWDv3fEF4Z"
      },
      "source": [
        "##### ***국가당 감염자 수(위의 데이터는 대륙별)***"
      ]
    },
    {
      "cell_type": "code",
      "metadata": {
        "colab": {
          "base_uri": "https://localhost:8080/"
        },
        "id": "caq9ejTLBG8m",
        "outputId": "7b1a9691-ba64-4a9c-9031-833f5f56936e"
      },
      "source": [
        "covid_by_region.mean()  # 각 튜플은 나라로 구분되어 있다 \r\n",
        "                        # 대륙에 속한 나라의 수를 나누면 대륙의 확진자 평균수 출력"
      ],
      "execution_count": 111,
      "outputs": [
        {
          "output_type": "execute_result",
          "data": {
            "text/plain": [
              "WHO Region\n",
              "Africa                    15066.812500\n",
              "Americas                 252551.028571\n",
              "Eastern Mediterranean     67761.090909\n",
              "Europe                    58920.053571\n",
              "South-East Asia          183529.700000\n",
              "Western Pacific           18276.750000\n",
              "Name: Confirmed, dtype: float64"
            ]
          },
          "metadata": {
            "tags": []
          },
          "execution_count": 111
        }
      ]
    },
    {
      "cell_type": "code",
      "metadata": {
        "colab": {
          "base_uri": "https://localhost:8080/"
        },
        "id": "cIxfLS3UDUJf",
        "outputId": "ca0a84c9-9452-440b-e237-37f8f4fca387"
      },
      "source": [
        "covid_by_country = data['Confirmed'].groupby(by=data['Country/Region'])\r\n",
        "covid_by_country"
      ],
      "execution_count": 109,
      "outputs": [
        {
          "output_type": "execute_result",
          "data": {
            "text/plain": [
              "<pandas.core.groupby.generic.SeriesGroupBy object at 0x7f0916f60908>"
            ]
          },
          "metadata": {
            "tags": []
          },
          "execution_count": 109
        }
      ]
    },
    {
      "cell_type": "code",
      "metadata": {
        "colab": {
          "base_uri": "https://localhost:8080/"
        },
        "id": "6Xn-33ofDVou",
        "outputId": "262f6bef-fb6a-42f6-fd9e-13b126e65e60"
      },
      "source": [
        "covid_by_country.sum()"
      ],
      "execution_count": 110,
      "outputs": [
        {
          "output_type": "execute_result",
          "data": {
            "text/plain": [
              "Country/Region\n",
              "Afghanistan           36263\n",
              "Albania                4880\n",
              "Algeria               27973\n",
              "Andorra                 907\n",
              "Angola                  950\n",
              "                      ...  \n",
              "West Bank and Gaza    10621\n",
              "Western Sahara           10\n",
              "Yemen                  1691\n",
              "Zambia                 4552\n",
              "Zimbabwe               2704\n",
              "Name: Confirmed, Length: 187, dtype: int64"
            ]
          },
          "metadata": {
            "tags": []
          },
          "execution_count": 110
        }
      ]
    },
    {
      "cell_type": "code",
      "metadata": {
        "id": "UNQzr85UDX2_"
      },
      "source": [
        ""
      ],
      "execution_count": null,
      "outputs": []
    },
    {
      "cell_type": "markdown",
      "metadata": {
        "id": "6E8ckvhDKjS4"
      },
      "source": [
        "# Mission\r\n",
        "\r\n",
        "1. 데이터에서 100 case 대비 사망률(Deaths / 100 Cases)이 가장 높은 국가는?\r\n",
        "\r\n",
        "\r\n",
        "2. 데이터에서 신규 확진자가 없는 나라 중 WHO Region이 'Europe'을 모두 출력하면?\r\n",
        "- hint: 한 줄 에 동시에 두 가지 조건을 Apply 하는 경우 Warning이 발생할 수 있습니다.\r\n",
        "\r\n",
        "\r\n",
        "3. 다음 데이터를 이용해 각 Region별로 아보카도가 가장 비싼 평균가격(AveragePrice)를 출력하면?"
      ]
    },
    {
      "cell_type": "code",
      "metadata": {
        "id": "uOqSIz39LHjm"
      },
      "source": [
        "# 1\r\n"
      ],
      "execution_count": null,
      "outputs": []
    }
  ]
}