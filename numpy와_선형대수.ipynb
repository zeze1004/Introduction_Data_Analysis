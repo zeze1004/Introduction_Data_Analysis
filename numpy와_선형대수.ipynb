{
  "nbformat": 4,
  "nbformat_minor": 0,
  "metadata": {
    "colab": {
      "name": "numpy와 선형대수",
      "provenance": [],
      "collapsed_sections": [],
      "authorship_tag": "ABX9TyM7W8Jzq+kcTcoT88O8Rmpt",
      "include_colab_link": true
    },
    "kernelspec": {
      "name": "python3",
      "display_name": "Python 3"
    }
  },
  "cells": [
    {
      "cell_type": "markdown",
      "metadata": {
        "id": "view-in-github",
        "colab_type": "text"
      },
      "source": [
        "<a href=\"https://colab.research.google.com/github/zeze1004/Introduction_Data_Analysis/blob/main/numpy%EC%99%80_%EC%84%A0%ED%98%95%EB%8C%80%EC%88%98.ipynb\" target=\"_parent\"><img src=\"https://colab.research.google.com/assets/colab-badge.svg\" alt=\"Open In Colab\"/></a>"
      ]
    },
    {
      "cell_type": "code",
      "metadata": {
        "id": "U_uJHvGWyCIo"
      },
      "source": [
        "import numpy as np"
      ],
      "execution_count": null,
      "outputs": []
    },
    {
      "cell_type": "code",
      "metadata": {
        "colab": {
          "base_uri": "https://localhost:8080/"
        },
        "id": "aZ5mO_9ExydM",
        "outputId": "0f620c42-d113-4049-fc56-09eeb72f947c"
      },
      "source": [
        "# 영벡터\r\n",
        "np.zeros(2)"
      ],
      "execution_count": null,
      "outputs": [
        {
          "output_type": "execute_result",
          "data": {
            "text/plain": [
              "array([0., 0.])"
            ]
          },
          "metadata": {
            "tags": []
          },
          "execution_count": 3
        }
      ]
    },
    {
      "cell_type": "code",
      "metadata": {
        "colab": {
          "base_uri": "https://localhost:8080/"
        },
        "id": "pgp1KfYWx80D",
        "outputId": "6fda8568-75c5-4447-c470-f253c1b17219"
      },
      "source": [
        "np.zeros((3,3,3))"
      ],
      "execution_count": null,
      "outputs": [
        {
          "output_type": "execute_result",
          "data": {
            "text/plain": [
              "array([[[0., 0., 0.],\n",
              "        [0., 0., 0.],\n",
              "        [0., 0., 0.]],\n",
              "\n",
              "       [[0., 0., 0.],\n",
              "        [0., 0., 0.],\n",
              "        [0., 0., 0.]],\n",
              "\n",
              "       [[0., 0., 0.],\n",
              "        [0., 0., 0.],\n",
              "        [0., 0., 0.]]])"
            ]
          },
          "metadata": {
            "tags": []
          },
          "execution_count": 4
        }
      ]
    },
    {
      "cell_type": "code",
      "metadata": {
        "colab": {
          "base_uri": "https://localhost:8080/"
        },
        "id": "qjIwraYeyLqv",
        "outputId": "a06b7ef4-37bb-4d10-bd01-e340d71067b7"
      },
      "source": [
        "# 1벡터\r\n",
        "np.ones((3,3,1))"
      ],
      "execution_count": null,
      "outputs": [
        {
          "output_type": "execute_result",
          "data": {
            "text/plain": [
              "array([[[1.],\n",
              "        [1.],\n",
              "        [1.]],\n",
              "\n",
              "       [[1.],\n",
              "        [1.],\n",
              "        [1.]],\n",
              "\n",
              "       [[1.],\n",
              "        [1.],\n",
              "        [1.]]])"
            ]
          },
          "metadata": {
            "tags": []
          },
          "execution_count": 8
        }
      ]
    },
    {
      "cell_type": "code",
      "metadata": {
        "colab": {
          "base_uri": "https://localhost:8080/"
        },
        "id": "3W7lBGw_yWks",
        "outputId": "6a255c4e-c670-4ade-d0d3-de328378924a"
      },
      "source": [
        "# 대각행렬\r\n",
        "# 대각선을 제외한 성분이 0인 행렬\r\n",
        "np.diag((2,4))"
      ],
      "execution_count": null,
      "outputs": [
        {
          "output_type": "execute_result",
          "data": {
            "text/plain": [
              "array([[2, 0],\n",
              "       [0, 4]])"
            ]
          },
          "metadata": {
            "tags": []
          },
          "execution_count": 9
        }
      ]
    },
    {
      "cell_type": "code",
      "metadata": {
        "colab": {
          "base_uri": "https://localhost:8080/"
        },
        "id": "BCci-dumy2-A",
        "outputId": "f900fcff-e223-4828-cf44-49a2ca990ec4"
      },
      "source": [
        "# 항등행렬 = 대각행렬 원소가 모두 1인 행렬\r\n",
        "# 대각선이 1인 대각행렬\r\n",
        "np.eye(2,dtype=int) # type 디폴트는 float"
      ],
      "execution_count": null,
      "outputs": [
        {
          "output_type": "execute_result",
          "data": {
            "text/plain": [
              "array([[1, 0],\n",
              "       [0, 1]])"
            ]
          },
          "metadata": {
            "tags": []
          },
          "execution_count": 10
        }
      ]
    },
    {
      "cell_type": "code",
      "metadata": {
        "colab": {
          "base_uri": "https://localhost:8080/"
        },
        "id": "Nb5wfhNkzBUe",
        "outputId": "f59967b4-b44f-4c1d-b60f-3e9e93233ca7"
      },
      "source": [
        "np.eye(2,dtype=complex) # complex는 복소수(i, python에서는 j로 표시)"
      ],
      "execution_count": null,
      "outputs": [
        {
          "output_type": "execute_result",
          "data": {
            "text/plain": [
              "array([[1.+0.j, 0.+0.j],\n",
              "       [0.+0.j, 1.+0.j]])"
            ]
          },
          "metadata": {
            "tags": []
          },
          "execution_count": 11
        }
      ]
    },
    {
      "cell_type": "code",
      "metadata": {
        "colab": {
          "base_uri": "https://localhost:8080/"
        },
        "id": "V5X1dx84zhnE",
        "outputId": "b499b9bd-c54d-4782-a9d5-f25adfc27753"
      },
      "source": [
        "# 행렬곱\r\n",
        "# np.dot() or @ 사용\r\n",
        "\r\n",
        "mat_1 = np.array([[1,4],[2,3]])\r\n",
        "mat_2 = np.array([[7,9],[0,6]])\r\n",
        "\r\n",
        "mat_1.dot(mat_2)\r\n",
        "mat_1 @ mat_2"
      ],
      "execution_count": null,
      "outputs": [
        {
          "output_type": "execute_result",
          "data": {
            "text/plain": [
              "array([[ 7, 33],\n",
              "       [14, 36]])"
            ]
          },
          "metadata": {
            "tags": []
          },
          "execution_count": 14
        }
      ]
    },
    {
      "cell_type": "code",
      "metadata": {
        "colab": {
          "base_uri": "https://localhost:8080/"
        },
        "id": "M0nE6jVEzheN",
        "outputId": "55b2bff6-594e-43c0-8e05-d6a9d031a88e"
      },
      "source": [
        "# 트레이스: 매트릭스의 대각선의 합\r\n",
        "# np.trace()\r\n",
        "\r\n",
        "arr1 = np.array([[1,2,3],[4,5,6],[7,8,9]])\r\n",
        "arr.trace() # 1+ 5 + 9"
      ],
      "execution_count": null,
      "outputs": [
        {
          "output_type": "execute_result",
          "data": {
            "text/plain": [
              "15"
            ]
          },
          "metadata": {
            "tags": []
          },
          "execution_count": 15
        }
      ]
    },
    {
      "cell_type": "code",
      "metadata": {
        "colab": {
          "base_uri": "https://localhost:8080/"
        },
        "id": "M6Q9yjL7zhNT",
        "outputId": "b5134e64-6cc8-4a4a-b5c4-3ac1a6bb7f86"
      },
      "source": [
        "np.eye(2).trace()"
      ],
      "execution_count": null,
      "outputs": [
        {
          "output_type": "execute_result",
          "data": {
            "text/plain": [
              "2.0"
            ]
          },
          "metadata": {
            "tags": []
          },
          "execution_count": 18
        }
      ]
    },
    {
      "cell_type": "code",
      "metadata": {
        "colab": {
          "base_uri": "https://localhost:8080/"
        },
        "id": "78ez_Nl51POX",
        "outputId": "4309228d-68a3-462a-dd5d-3fff89adc248"
      },
      "source": [
        "# 행렬식: 행렬을 대표하는 값들 중 하나\r\n",
        "# 행렬식이 0이면 역행렬이 존재하지 않음\r\n",
        "# np.linalg.det() \r\n",
        "\r\n",
        "np.linalg.det(arr)\r\n",
        "# np.array([[1,2,3],[4,5,6],[7,8,9]])를 역행렬 함수(np.linalg.inv())에 넣으면 에러 남"
      ],
      "execution_count": null,
      "outputs": [
        {
          "output_type": "execute_result",
          "data": {
            "text/plain": [
              "0.0"
            ]
          },
          "metadata": {
            "tags": []
          },
          "execution_count": 19
        }
      ]
    },
    {
      "cell_type": "code",
      "metadata": {
        "colab": {
          "base_uri": "https://localhost:8080/"
        },
        "id": "ESk4YYIa2oVw",
        "outputId": "15031a9d-302f-406e-81f4-dc62bf740f5f"
      },
      "source": [
        "arr2 = np.array([[1,4,7],[2,5,8],[3,6,9]])\r\n",
        "np.linalg.det(arr2) # arr1을 뒤집은 형태"
      ],
      "execution_count": null,
      "outputs": [
        {
          "output_type": "execute_result",
          "data": {
            "text/plain": [
              "0.0"
            ]
          },
          "metadata": {
            "tags": []
          },
          "execution_count": 20
        }
      ]
    },
    {
      "cell_type": "markdown",
      "metadata": {
        "id": "fXLNF6EB9XXZ"
      },
      "source": [
        "A = \r\n",
        "$$\\left[\\begin{array}{rrr} \r\n",
        "a&b\\\\\r\n",
        "d&d\r\n",
        "\\end{array}\\right]$$\r\n",
        " =\r\n"
      ]
    },
    {
      "cell_type": "code",
      "metadata": {
        "colab": {
          "base_uri": "https://localhost:8080/"
        },
        "id": "lGBxKs3b8r8r",
        "outputId": "d4ab4ffa-9af7-4d42-d73f-1330cfa3cacf"
      },
      "source": [
        "# 역행렬\r\n",
        "# 자기자신과 자기자신의 역행렬 곱하면 항등행렬이 나온다\r\n",
        "\r\n",
        "arr = np.array([[1,4],[2,3]])\r\n",
        "arr"
      ],
      "execution_count": null,
      "outputs": [
        {
          "output_type": "execute_result",
          "data": {
            "text/plain": [
              "array([[1, 4],\n",
              "       [2, 3]])"
            ]
          },
          "metadata": {
            "tags": []
          },
          "execution_count": 27
        }
      ]
    },
    {
      "cell_type": "code",
      "metadata": {
        "colab": {
          "base_uri": "https://localhost:8080/"
        },
        "id": "wdpJaZsl8sqq",
        "outputId": "bff88770-be8b-4b08-a8f0-9795b3221a7c"
      },
      "source": [
        "arr_inv = np.linalg.inv(arr)\r\n",
        "arr_inv"
      ],
      "execution_count": null,
      "outputs": [
        {
          "output_type": "execute_result",
          "data": {
            "text/plain": [
              "array([[-0.6,  0.8],\n",
              "       [ 0.4, -0.2]])"
            ]
          },
          "metadata": {
            "tags": []
          },
          "execution_count": 73
        }
      ]
    },
    {
      "cell_type": "code",
      "metadata": {
        "colab": {
          "base_uri": "https://localhost:8080/"
        },
        "id": "D8nK9357_pwy",
        "outputId": "727e27d2-81e0-42c8-bfeb-6830b42c8ffb"
      },
      "source": [
        "arr1 = np.array([[2,0,1],[-2,3,4],[-5,5,6]])\r\n",
        "arr1"
      ],
      "execution_count": null,
      "outputs": [
        {
          "output_type": "execute_result",
          "data": {
            "text/plain": [
              "array([[ 2,  0,  1],\n",
              "       [-2,  3,  4],\n",
              "       [-5,  5,  6]])"
            ]
          },
          "metadata": {
            "tags": []
          },
          "execution_count": 36
        }
      ]
    },
    {
      "cell_type": "code",
      "metadata": {
        "colab": {
          "base_uri": "https://localhost:8080/"
        },
        "id": "gHL5d1awAKFj",
        "outputId": "654b236d-c90e-44de-dec0-0dc2bb9f921c"
      },
      "source": [
        "value = np.linalg.inv(arr1)\r\n",
        "value"
      ],
      "execution_count": null,
      "outputs": [
        {
          "output_type": "execute_result",
          "data": {
            "text/plain": [
              "array([[ -2.,   5.,  -3.],\n",
              "       [ -8.,  17., -10.],\n",
              "       [  5., -10.,   6.]])"
            ]
          },
          "metadata": {
            "tags": []
          },
          "execution_count": 37
        }
      ]
    },
    {
      "cell_type": "code",
      "metadata": {
        "colab": {
          "base_uri": "https://localhost:8080/"
        },
        "id": "7OvyWQdNCfec",
        "outputId": "74b80b5d-434e-431e-ee79-e272421a9aad"
      },
      "source": [
        "# 역행렬 확인\r\n",
        "eye = arr @ arr_lnv\r\n",
        "eye\r\n"
      ],
      "execution_count": null,
      "outputs": [
        {
          "output_type": "execute_result",
          "data": {
            "text/plain": [
              "array([[ 1.00000000e+00,  0.00000000e+00],\n",
              "       [-1.11022302e-16,  1.00000000e+00]])"
            ]
          },
          "metadata": {
            "tags": []
          },
          "execution_count": 74
        }
      ]
    },
    {
      "cell_type": "markdown",
      "metadata": {
        "id": "U4Z4_MdaDZxg"
      },
      "source": [
        "## 과제\r\n",
        "1. 어떤 백터가 주어졌을 때 L2 norm을 구하는 함수 get_L2_norm() 작성해라."
      ]
    },
    {
      "cell_type": "code",
      "metadata": {
        "colab": {
          "base_uri": "https://localhost:8080/"
        },
        "id": "AwiU2Nk4FI8a",
        "outputId": "48cbaebe-d3f3-431a-b5f5-a0f35ce37471"
      },
      "source": [
        "vector = np.random.randint(1,10, size=5)\r\n",
        "vector"
      ],
      "execution_count": null,
      "outputs": [
        {
          "output_type": "execute_result",
          "data": {
            "text/plain": [
              "array([2, 1, 2, 8, 1])"
            ]
          },
          "metadata": {
            "tags": []
          },
          "execution_count": 63
        }
      ]
    },
    {
      "cell_type": "code",
      "metadata": {
        "colab": {
          "base_uri": "https://localhost:8080/"
        },
        "id": "jnYWqAHDC6sl",
        "outputId": "babe9b03-a9d5-4376-ca42-a395efb196a4"
      },
      "source": [
        "def get_L2_norm(vector):\r\n",
        "  L2_norm = np.linalg.norm(vector)\r\n",
        "  print(L2_norm)\r\n",
        "\r\n",
        "get_L2_norm(vector)\r\n"
      ],
      "execution_count": null,
      "outputs": [
        {
          "output_type": "stream",
          "text": [
            "8.602325267042627\n"
          ],
          "name": "stdout"
        }
      ]
    },
    {
      "cell_type": "markdown",
      "metadata": {
        "id": "DyzmRUOdGl2a"
      },
      "source": [
        "2. 어떤 행렬이 singular matrix인지 확인하는 함수 is_singular() 작성하시오.\r\n",
        "\r\n",
        "- 매개변수: 2차원 백터(np.array)\r\n",
        "- return: 인자로 주어진 벡터가 singular하면 true, non-singualr하면 false로 반환"
      ]
    },
    {
      "cell_type": "code",
      "metadata": {
        "colab": {
          "base_uri": "https://localhost:8080/"
        },
        "id": "Rmz5mfwpKFuT",
        "outputId": "719fefba-1a44-4b05-c650-445aec028ad0"
      },
      "source": [
        "vector = np.random.randint(1,10, size=(2,2))\r\n",
        "vector"
      ],
      "execution_count": null,
      "outputs": [
        {
          "output_type": "execute_result",
          "data": {
            "text/plain": [
              "array([[9, 8],\n",
              "       [3, 4]])"
            ]
          },
          "metadata": {
            "tags": []
          },
          "execution_count": 80
        }
      ]
    },
    {
      "cell_type": "code",
      "metadata": {
        "colab": {
          "base_uri": "https://localhost:8080/"
        },
        "id": "ci42-cNMFCRs",
        "outputId": "7212620b-1edb-4a5a-ba17-07eb30a4f82a"
      },
      "source": [
        "def is_singular(vector):\r\n",
        "  if np.linalg.det(vector) == 0:\r\n",
        "    print(\"is_singular\")\r\n",
        "    return Ture \r\n",
        "  else:\r\n",
        "    print(\"none_singular\")\r\n",
        "    return False\r\n",
        "\r\n",
        "is_singular(vector)"
      ],
      "execution_count": null,
      "outputs": [
        {
          "output_type": "stream",
          "text": [
            "none_singular\n"
          ],
          "name": "stdout"
        },
        {
          "output_type": "execute_result",
          "data": {
            "text/plain": [
              "False"
            ]
          },
          "metadata": {
            "tags": []
          },
          "execution_count": 81
        }
      ]
    },
    {
      "cell_type": "code",
      "metadata": {
        "id": "FOYaXudsJuGk"
      },
      "source": [
        ""
      ],
      "execution_count": null,
      "outputs": []
    }
  ]
}